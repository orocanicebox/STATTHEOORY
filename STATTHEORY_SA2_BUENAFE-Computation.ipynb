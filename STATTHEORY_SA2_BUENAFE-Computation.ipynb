{
 "cells": [
  {
   "cell_type": "markdown",
   "id": "547c3b9a",
   "metadata": {},
   "source": [
    "# SA2\n",
    "\n",
    "#### Karl  Isaiah  D.  Buenafe"
   ]
  },
  {
   "cell_type": "code",
   "execution_count": 68,
   "id": "3bf9839a",
   "metadata": {},
   "outputs": [],
   "source": [
    "import numpy as np\n",
    "import scipy.stats as spt\n",
    "import pandas as pd\n",
    "import pingouin as pg\n",
    "import matplotlib.pyplot as plt\n",
    "import seaborn as sns\n",
    "import statsmodels.api as sm\n",
    "from statsmodels.formula.api import ols\n",
    "from statsmodels.stats.anova import anova_lm"
   ]
  },
  {
   "cell_type": "markdown",
   "id": "8e1e7a3f",
   "metadata": {},
   "source": [
    "### QUESTION 7\n",
    "\n",
    "The dataset contains 10 individuals' self-esteem scores on three-time points during a specific diet to determine whether their self-esteem improved.\n",
    "\n",
    "One-way repeated measures ANOVA can be performed to determine the effect of time on the self-esteem score and complete the table below. (Provide the answser in 3 decimal places.)"
   ]
  },
  {
   "cell_type": "code",
   "execution_count": 4,
   "id": "1a891bd7",
   "metadata": {},
   "outputs": [
    {
     "data": {
      "text/html": [
       "<div>\n",
       "<style scoped>\n",
       "    .dataframe tbody tr th:only-of-type {\n",
       "        vertical-align: middle;\n",
       "    }\n",
       "\n",
       "    .dataframe tbody tr th {\n",
       "        vertical-align: top;\n",
       "    }\n",
       "\n",
       "    .dataframe thead th {\n",
       "        text-align: right;\n",
       "    }\n",
       "</style>\n",
       "<table border=\"1\" class=\"dataframe\">\n",
       "  <thead>\n",
       "    <tr style=\"text-align: right;\">\n",
       "      <th></th>\n",
       "      <th>id</th>\n",
       "      <th>t1</th>\n",
       "      <th>t2</th>\n",
       "      <th>t3</th>\n",
       "    </tr>\n",
       "  </thead>\n",
       "  <tbody>\n",
       "    <tr>\n",
       "      <th>0</th>\n",
       "      <td>1</td>\n",
       "      <td>4.005027</td>\n",
       "      <td>5.182286</td>\n",
       "      <td>7.107831</td>\n",
       "    </tr>\n",
       "    <tr>\n",
       "      <th>1</th>\n",
       "      <td>2</td>\n",
       "      <td>2.558124</td>\n",
       "      <td>6.912915</td>\n",
       "      <td>6.308434</td>\n",
       "    </tr>\n",
       "    <tr>\n",
       "      <th>2</th>\n",
       "      <td>3</td>\n",
       "      <td>3.244241</td>\n",
       "      <td>4.443434</td>\n",
       "      <td>9.778410</td>\n",
       "    </tr>\n",
       "    <tr>\n",
       "      <th>3</th>\n",
       "      <td>4</td>\n",
       "      <td>3.419538</td>\n",
       "      <td>4.711696</td>\n",
       "      <td>8.347124</td>\n",
       "    </tr>\n",
       "    <tr>\n",
       "      <th>4</th>\n",
       "      <td>5</td>\n",
       "      <td>2.871243</td>\n",
       "      <td>3.908429</td>\n",
       "      <td>6.457287</td>\n",
       "    </tr>\n",
       "    <tr>\n",
       "      <th>5</th>\n",
       "      <td>6</td>\n",
       "      <td>2.045868</td>\n",
       "      <td>5.340549</td>\n",
       "      <td>6.653224</td>\n",
       "    </tr>\n",
       "    <tr>\n",
       "      <th>6</th>\n",
       "      <td>7</td>\n",
       "      <td>3.525992</td>\n",
       "      <td>5.580695</td>\n",
       "      <td>6.840157</td>\n",
       "    </tr>\n",
       "    <tr>\n",
       "      <th>7</th>\n",
       "      <td>8</td>\n",
       "      <td>3.179425</td>\n",
       "      <td>4.370234</td>\n",
       "      <td>7.818623</td>\n",
       "    </tr>\n",
       "    <tr>\n",
       "      <th>8</th>\n",
       "      <td>9</td>\n",
       "      <td>3.507964</td>\n",
       "      <td>4.399808</td>\n",
       "      <td>8.471229</td>\n",
       "    </tr>\n",
       "    <tr>\n",
       "      <th>9</th>\n",
       "      <td>10</td>\n",
       "      <td>3.043798</td>\n",
       "      <td>4.489376</td>\n",
       "      <td>8.581100</td>\n",
       "    </tr>\n",
       "  </tbody>\n",
       "</table>\n",
       "</div>"
      ],
      "text/plain": [
       "   id        t1        t2        t3\n",
       "0   1  4.005027  5.182286  7.107831\n",
       "1   2  2.558124  6.912915  6.308434\n",
       "2   3  3.244241  4.443434  9.778410\n",
       "3   4  3.419538  4.711696  8.347124\n",
       "4   5  2.871243  3.908429  6.457287\n",
       "5   6  2.045868  5.340549  6.653224\n",
       "6   7  3.525992  5.580695  6.840157\n",
       "7   8  3.179425  4.370234  7.818623\n",
       "8   9  3.507964  4.399808  8.471229\n",
       "9  10  3.043798  4.489376  8.581100"
      ]
     },
     "execution_count": 4,
     "metadata": {},
     "output_type": "execute_result"
    }
   ],
   "source": [
    "df1= pd.read_csv('self-esteem.csv')\n",
    "df1"
   ]
  },
  {
   "cell_type": "code",
   "execution_count": 10,
   "id": "60ca2d8d",
   "metadata": {},
   "outputs": [
    {
     "data": {
      "text/html": [
       "<div>\n",
       "<style scoped>\n",
       "    .dataframe tbody tr th:only-of-type {\n",
       "        vertical-align: middle;\n",
       "    }\n",
       "\n",
       "    .dataframe tbody tr th {\n",
       "        vertical-align: top;\n",
       "    }\n",
       "\n",
       "    .dataframe thead th {\n",
       "        text-align: right;\n",
       "    }\n",
       "</style>\n",
       "<table border=\"1\" class=\"dataframe\">\n",
       "  <thead>\n",
       "    <tr style=\"text-align: right;\">\n",
       "      <th></th>\n",
       "      <th>ID</th>\n",
       "      <th>Time_points</th>\n",
       "      <th>score</th>\n",
       "    </tr>\n",
       "  </thead>\n",
       "  <tbody>\n",
       "    <tr>\n",
       "      <th>0</th>\n",
       "      <td>1</td>\n",
       "      <td>t1</td>\n",
       "      <td>4.005027</td>\n",
       "    </tr>\n",
       "    <tr>\n",
       "      <th>1</th>\n",
       "      <td>2</td>\n",
       "      <td>t1</td>\n",
       "      <td>2.558124</td>\n",
       "    </tr>\n",
       "    <tr>\n",
       "      <th>2</th>\n",
       "      <td>3</td>\n",
       "      <td>t1</td>\n",
       "      <td>3.244241</td>\n",
       "    </tr>\n",
       "    <tr>\n",
       "      <th>3</th>\n",
       "      <td>4</td>\n",
       "      <td>t1</td>\n",
       "      <td>3.419538</td>\n",
       "    </tr>\n",
       "    <tr>\n",
       "      <th>4</th>\n",
       "      <td>5</td>\n",
       "      <td>t1</td>\n",
       "      <td>2.871243</td>\n",
       "    </tr>\n",
       "    <tr>\n",
       "      <th>5</th>\n",
       "      <td>6</td>\n",
       "      <td>t1</td>\n",
       "      <td>2.045868</td>\n",
       "    </tr>\n",
       "    <tr>\n",
       "      <th>6</th>\n",
       "      <td>7</td>\n",
       "      <td>t1</td>\n",
       "      <td>3.525992</td>\n",
       "    </tr>\n",
       "    <tr>\n",
       "      <th>7</th>\n",
       "      <td>8</td>\n",
       "      <td>t1</td>\n",
       "      <td>3.179425</td>\n",
       "    </tr>\n",
       "    <tr>\n",
       "      <th>8</th>\n",
       "      <td>9</td>\n",
       "      <td>t1</td>\n",
       "      <td>3.507964</td>\n",
       "    </tr>\n",
       "    <tr>\n",
       "      <th>9</th>\n",
       "      <td>10</td>\n",
       "      <td>t1</td>\n",
       "      <td>3.043798</td>\n",
       "    </tr>\n",
       "  </tbody>\n",
       "</table>\n",
       "</div>"
      ],
      "text/plain": [
       "   ID Time_points     score\n",
       "0   1          t1  4.005027\n",
       "1   2          t1  2.558124\n",
       "2   3          t1  3.244241\n",
       "3   4          t1  3.419538\n",
       "4   5          t1  2.871243\n",
       "5   6          t1  2.045868\n",
       "6   7          t1  3.525992\n",
       "7   8          t1  3.179425\n",
       "8   9          t1  3.507964\n",
       "9  10          t1  3.043798"
      ]
     },
     "execution_count": 10,
     "metadata": {},
     "output_type": "execute_result"
    }
   ],
   "source": [
    "df1_melt=pd.melt(df1.reset_index(), id_vars=['id'],\n",
    "                value_vars=['t1','t2','t3'])\n",
    "\n",
    "df1_melt.columns=['ID','Time_points','score']\n",
    "df1_melt.head(10)"
   ]
  },
  {
   "cell_type": "code",
   "execution_count": 17,
   "id": "4ecbd65b",
   "metadata": {},
   "outputs": [
    {
     "data": {
      "text/html": [
       "<div>\n",
       "<style scoped>\n",
       "    .dataframe tbody tr th:only-of-type {\n",
       "        vertical-align: middle;\n",
       "    }\n",
       "\n",
       "    .dataframe tbody tr th {\n",
       "        vertical-align: top;\n",
       "    }\n",
       "\n",
       "    .dataframe thead th {\n",
       "        text-align: right;\n",
       "    }\n",
       "</style>\n",
       "<table border=\"1\" class=\"dataframe\">\n",
       "  <thead>\n",
       "    <tr style=\"text-align: right;\">\n",
       "      <th></th>\n",
       "      <th>Source</th>\n",
       "      <th>SS</th>\n",
       "      <th>DF</th>\n",
       "      <th>MS</th>\n",
       "      <th>F</th>\n",
       "      <th>p-unc</th>\n",
       "      <th>ng2</th>\n",
       "      <th>eps</th>\n",
       "    </tr>\n",
       "  </thead>\n",
       "  <tbody>\n",
       "    <tr>\n",
       "      <th>0</th>\n",
       "      <td>Time_points</td>\n",
       "      <td>102.455828</td>\n",
       "      <td>2</td>\n",
       "      <td>51.227914</td>\n",
       "      <td>55.469039</td>\n",
       "      <td>2.013826e-08</td>\n",
       "      <td>0.828595</td>\n",
       "      <td>0.690061</td>\n",
       "    </tr>\n",
       "    <tr>\n",
       "      <th>1</th>\n",
       "      <td>Error</td>\n",
       "      <td>16.623732</td>\n",
       "      <td>18</td>\n",
       "      <td>0.923541</td>\n",
       "      <td>NaN</td>\n",
       "      <td>NaN</td>\n",
       "      <td>NaN</td>\n",
       "      <td>NaN</td>\n",
       "    </tr>\n",
       "  </tbody>\n",
       "</table>\n",
       "</div>"
      ],
      "text/plain": [
       "        Source          SS  DF         MS          F         p-unc       ng2  \\\n",
       "0  Time_points  102.455828   2  51.227914  55.469039  2.013826e-08  0.828595   \n",
       "1        Error   16.623732  18   0.923541        NaN           NaN       NaN   \n",
       "\n",
       "        eps  \n",
       "0  0.690061  \n",
       "1       NaN  "
      ]
     },
     "execution_count": 17,
     "metadata": {},
     "output_type": "execute_result"
    }
   ],
   "source": [
    "anova1=pg.rm_anova(dv='score',within='Time_points', subject=\"ID\", data=df1_melt, detailed=True)\n",
    "anova1"
   ]
  },
  {
   "cell_type": "code",
   "execution_count": 21,
   "id": "b7c8cdfb",
   "metadata": {},
   "outputs": [
    {
     "data": {
      "text/plain": [
       "SpherResults(spher=True, W=0.5508535899321344, chi2=4.770289777118488, dof=2, pval=0.09207563790625896)"
      ]
     },
     "execution_count": 21,
     "metadata": {},
     "output_type": "execute_result"
    }
   ],
   "source": [
    "sph=pg.sphericity(data=df1_melt, dv='score', within='Time_points', subject='ID')\n",
    "sph"
   ]
  },
  {
   "cell_type": "code",
   "execution_count": 84,
   "id": "aff31b19",
   "metadata": {},
   "outputs": [
    {
     "data": {
      "text/html": [
       "<div>\n",
       "<style scoped>\n",
       "    .dataframe tbody tr th:only-of-type {\n",
       "        vertical-align: middle;\n",
       "    }\n",
       "\n",
       "    .dataframe tbody tr th {\n",
       "        vertical-align: top;\n",
       "    }\n",
       "\n",
       "    .dataframe thead th {\n",
       "        text-align: right;\n",
       "    }\n",
       "</style>\n",
       "<table border=\"1\" class=\"dataframe\">\n",
       "  <thead>\n",
       "    <tr style=\"text-align: right;\">\n",
       "      <th></th>\n",
       "      <th>Contrast</th>\n",
       "      <th>A</th>\n",
       "      <th>B</th>\n",
       "      <th>Paired</th>\n",
       "      <th>Parametric</th>\n",
       "      <th>T</th>\n",
       "      <th>dof</th>\n",
       "      <th>alternative</th>\n",
       "      <th>p-unc</th>\n",
       "      <th>BF10</th>\n",
       "      <th>hedges</th>\n",
       "    </tr>\n",
       "  </thead>\n",
       "  <tbody>\n",
       "    <tr>\n",
       "      <th>0</th>\n",
       "      <td>Time_points</td>\n",
       "      <td>t1</td>\n",
       "      <td>t2</td>\n",
       "      <td>True</td>\n",
       "      <td>True</td>\n",
       "      <td>-4.967619</td>\n",
       "      <td>9.0</td>\n",
       "      <td>two-sided</td>\n",
       "      <td>7.724186e-04</td>\n",
       "      <td>50.694</td>\n",
       "      <td>-2.371801</td>\n",
       "    </tr>\n",
       "    <tr>\n",
       "      <th>1</th>\n",
       "      <td>Time_points</td>\n",
       "      <td>t1</td>\n",
       "      <td>t3</td>\n",
       "      <td>True</td>\n",
       "      <td>True</td>\n",
       "      <td>-13.228148</td>\n",
       "      <td>9.0</td>\n",
       "      <td>two-sided</td>\n",
       "      <td>3.343805e-07</td>\n",
       "      <td>4.02e+04</td>\n",
       "      <td>-4.799517</td>\n",
       "    </tr>\n",
       "    <tr>\n",
       "      <th>2</th>\n",
       "      <td>Time_points</td>\n",
       "      <td>t2</td>\n",
       "      <td>t3</td>\n",
       "      <td>True</td>\n",
       "      <td>True</td>\n",
       "      <td>-4.867816</td>\n",
       "      <td>9.0</td>\n",
       "      <td>two-sided</td>\n",
       "      <td>8.861905e-04</td>\n",
       "      <td>45.195</td>\n",
       "      <td>-2.556195</td>\n",
       "    </tr>\n",
       "  </tbody>\n",
       "</table>\n",
       "</div>"
      ],
      "text/plain": [
       "      Contrast   A   B  Paired  Parametric          T  dof alternative  \\\n",
       "0  Time_points  t1  t2    True        True  -4.967619  9.0   two-sided   \n",
       "1  Time_points  t1  t3    True        True -13.228148  9.0   two-sided   \n",
       "2  Time_points  t2  t3    True        True  -4.867816  9.0   two-sided   \n",
       "\n",
       "          p-unc      BF10    hedges  \n",
       "0  7.724186e-04    50.694 -2.371801  \n",
       "1  3.343805e-07  4.02e+04 -4.799517  \n",
       "2  8.861905e-04    45.195 -2.556195  "
      ]
     },
     "execution_count": 84,
     "metadata": {},
     "output_type": "execute_result"
    }
   ],
   "source": [
    "pairwise_results = pg.pairwise_tests(dv='score', \n",
    "                                      within='Time_points', \n",
    "                                      subject='ID', \n",
    "                                      data=df1_melt, \n",
    "                                      parametric=True, \n",
    "                                      alpha=0.05, \n",
    "                                      padjust='none', \n",
    "                                      return_desc=True)\n",
    "pairwise_results"
   ]
  },
  {
   "cell_type": "code",
   "execution_count": 44,
   "id": "b9de06be",
   "metadata": {},
   "outputs": [
    {
     "data": {
      "text/html": [
       "<div>\n",
       "<style scoped>\n",
       "    .dataframe tbody tr th:only-of-type {\n",
       "        vertical-align: middle;\n",
       "    }\n",
       "\n",
       "    .dataframe tbody tr th {\n",
       "        vertical-align: top;\n",
       "    }\n",
       "\n",
       "    .dataframe thead th {\n",
       "        text-align: right;\n",
       "    }\n",
       "</style>\n",
       "<table border=\"1\" class=\"dataframe\">\n",
       "  <thead>\n",
       "    <tr style=\"text-align: right;\">\n",
       "      <th></th>\n",
       "      <th>A</th>\n",
       "      <th>B</th>\n",
       "      <th>mean(A)</th>\n",
       "      <th>mean(B)</th>\n",
       "      <th>diff</th>\n",
       "      <th>se</th>\n",
       "      <th>T</th>\n",
       "      <th>p-tukey</th>\n",
       "      <th>hedges</th>\n",
       "    </tr>\n",
       "  </thead>\n",
       "  <tbody>\n",
       "    <tr>\n",
       "      <th>0</th>\n",
       "      <td>t1</td>\n",
       "      <td>t2</td>\n",
       "      <td>3.140</td>\n",
       "      <td>4.934</td>\n",
       "      <td>-1.794</td>\n",
       "      <td>0.396</td>\n",
       "      <td>-4.527</td>\n",
       "      <td>0.0</td>\n",
       "      <td>-2.372</td>\n",
       "    </tr>\n",
       "    <tr>\n",
       "      <th>1</th>\n",
       "      <td>t1</td>\n",
       "      <td>t3</td>\n",
       "      <td>3.140</td>\n",
       "      <td>7.636</td>\n",
       "      <td>-4.496</td>\n",
       "      <td>0.396</td>\n",
       "      <td>-11.348</td>\n",
       "      <td>0.0</td>\n",
       "      <td>-4.800</td>\n",
       "    </tr>\n",
       "    <tr>\n",
       "      <th>2</th>\n",
       "      <td>t2</td>\n",
       "      <td>t3</td>\n",
       "      <td>4.934</td>\n",
       "      <td>7.636</td>\n",
       "      <td>-2.702</td>\n",
       "      <td>0.396</td>\n",
       "      <td>-6.820</td>\n",
       "      <td>0.0</td>\n",
       "      <td>-2.556</td>\n",
       "    </tr>\n",
       "  </tbody>\n",
       "</table>\n",
       "</div>"
      ],
      "text/plain": [
       "    A   B  mean(A)  mean(B)   diff     se       T  p-tukey  hedges\n",
       "0  t1  t2    3.140    4.934 -1.794  0.396  -4.527      0.0  -2.372\n",
       "1  t1  t3    3.140    7.636 -4.496  0.396 -11.348      0.0  -4.800\n",
       "2  t2  t3    4.934    7.636 -2.702  0.396  -6.820      0.0  -2.556"
      ]
     },
     "execution_count": 44,
     "metadata": {},
     "output_type": "execute_result"
    }
   ],
   "source": [
    "df1_melt.pairwise_tukey(dv='score', between='Time_points').round(3)"
   ]
  },
  {
   "cell_type": "code",
   "execution_count": 83,
   "id": "63a9d87f",
   "metadata": {},
   "outputs": [
    {
     "name": "stdout",
     "output_type": "stream",
     "text": [
      "               df      sum_sq    mean_sq          F        PR(>F)\n",
      "Time_points   2.0  102.455828  51.227914  65.261034  4.563540e-11\n",
      "Residual     27.0   21.194174   0.784969        NaN           NaN\n"
     ]
    }
   ],
   "source": [
    "model = ols('score ~ Time_points', data=df1_melt).fit()\n",
    "result = anova_lm(model)\n",
    "\n",
    "print(result)"
   ]
  },
  {
   "cell_type": "markdown",
   "id": "56b00b47",
   "metadata": {},
   "source": [
    "  \n",
    "  \n",
    "  "
   ]
  },
  {
   "cell_type": "markdown",
   "id": "95f1373e",
   "metadata": {},
   "source": [
    "The table below shows the yields in bushels per acre of a certain variety of wheat grown in a particular type of soil treated with chemicals A, B, or C. "
   ]
  },
  {
   "cell_type": "code",
   "execution_count": 63,
   "id": "1eb478d5",
   "metadata": {},
   "outputs": [
    {
     "data": {
      "text/html": [
       "<div>\n",
       "<style scoped>\n",
       "    .dataframe tbody tr th:only-of-type {\n",
       "        vertical-align: middle;\n",
       "    }\n",
       "\n",
       "    .dataframe tbody tr th {\n",
       "        vertical-align: top;\n",
       "    }\n",
       "\n",
       "    .dataframe thead th {\n",
       "        text-align: right;\n",
       "    }\n",
       "</style>\n",
       "<table border=\"1\" class=\"dataframe\">\n",
       "  <thead>\n",
       "    <tr style=\"text-align: right;\">\n",
       "      <th></th>\n",
       "      <th>chemical</th>\n",
       "      <th>value</th>\n",
       "    </tr>\n",
       "  </thead>\n",
       "  <tbody>\n",
       "    <tr>\n",
       "      <th>0</th>\n",
       "      <td>A</td>\n",
       "      <td>48</td>\n",
       "    </tr>\n",
       "    <tr>\n",
       "      <th>1</th>\n",
       "      <td>A</td>\n",
       "      <td>49</td>\n",
       "    </tr>\n",
       "    <tr>\n",
       "      <th>2</th>\n",
       "      <td>A</td>\n",
       "      <td>50</td>\n",
       "    </tr>\n",
       "    <tr>\n",
       "      <th>3</th>\n",
       "      <td>A</td>\n",
       "      <td>49</td>\n",
       "    </tr>\n",
       "    <tr>\n",
       "      <th>4</th>\n",
       "      <td>B</td>\n",
       "      <td>47</td>\n",
       "    </tr>\n",
       "    <tr>\n",
       "      <th>5</th>\n",
       "      <td>B</td>\n",
       "      <td>49</td>\n",
       "    </tr>\n",
       "    <tr>\n",
       "      <th>6</th>\n",
       "      <td>B</td>\n",
       "      <td>48</td>\n",
       "    </tr>\n",
       "    <tr>\n",
       "      <th>7</th>\n",
       "      <td>B</td>\n",
       "      <td>48</td>\n",
       "    </tr>\n",
       "    <tr>\n",
       "      <th>8</th>\n",
       "      <td>C</td>\n",
       "      <td>49</td>\n",
       "    </tr>\n",
       "    <tr>\n",
       "      <th>9</th>\n",
       "      <td>C</td>\n",
       "      <td>51</td>\n",
       "    </tr>\n",
       "    <tr>\n",
       "      <th>10</th>\n",
       "      <td>C</td>\n",
       "      <td>50</td>\n",
       "    </tr>\n",
       "    <tr>\n",
       "      <th>11</th>\n",
       "      <td>C</td>\n",
       "      <td>50</td>\n",
       "    </tr>\n",
       "  </tbody>\n",
       "</table>\n",
       "</div>"
      ],
      "text/plain": [
       "   chemical  value\n",
       "0         A     48\n",
       "1         A     49\n",
       "2         A     50\n",
       "3         A     49\n",
       "4         B     47\n",
       "5         B     49\n",
       "6         B     48\n",
       "7         B     48\n",
       "8         C     49\n",
       "9         C     51\n",
       "10        C     50\n",
       "11        C     50"
      ]
     },
     "execution_count": 63,
     "metadata": {},
     "output_type": "execute_result"
    }
   ],
   "source": [
    "\n",
    "A= [48,49,50,49]\n",
    "B= [47,49,48,48]\n",
    "C= [49,51,50,50]\n",
    "\n",
    "data = {\n",
    "    'chemical': ['A'] * len(A) + ['B'] * len(B) + ['C'] * len(C),\n",
    "    'value': A + B + C\n",
    "}\n",
    "df2=pd.DataFrame(data)\n",
    "\n",
    "df2"
   ]
  },
  {
   "cell_type": "code",
   "execution_count": 82,
   "id": "5b00a58a",
   "metadata": {},
   "outputs": [
    {
     "name": "stdout",
     "output_type": "stream",
     "text": [
      "           df  sum_sq   mean_sq    F    PR(>F)\n",
      "chemical  2.0     8.0  4.000000  6.0  0.022085\n",
      "Residual  9.0     6.0  0.666667  NaN       NaN\n"
     ]
    }
   ],
   "source": [
    "model2 = ols('value ~ chemical', data=df2).fit()\n",
    "result2 = anova_lm(model)\n",
    "\n",
    "print(result2)"
   ]
  },
  {
   "cell_type": "code",
   "execution_count": 66,
   "id": "076ee50d",
   "metadata": {},
   "outputs": [
    {
     "name": "stdout",
     "output_type": "stream",
     "text": [
      "Eta-squared: 0.5714285714285685\n"
     ]
    }
   ],
   "source": [
    "SSB = result['sum_sq'][0]\n",
    "SST = np.sum((df2['value'] - np.mean(df2['value']))**2)\n",
    "\n",
    "print(f\"Eta-squared: {SSB/SST}\")"
   ]
  },
  {
   "cell_type": "code",
   "execution_count": 79,
   "id": "2ddfc22e",
   "metadata": {},
   "outputs": [
    {
     "data": {
      "image/png": "[encoded data removed]",
      "text/plain": [
       "<Figure size 600x600 with 1 Axes>"
      ]
     },
     "metadata": {},
     "output_type": "display_data"
    }
   ],
   "source": [
    "data = [A,B,C] \n",
    "['Chemical A', 'Chemical B', 'Chemical C']\n",
    "\n",
    "palette=[\"#276733\",'#F28BAB', '#F2CA22']\n",
    "plt.figure(figsize=(6, 6))\n",
    "ax=sns.boxplot(data=data, \n",
    "            palette=sns.set_palette(palette))\n",
    "\n",
    "plt.title('Growth of wheats treated with 3 chemicals')\n",
    "plt.ylabel('Yields in bushels per acre')\n",
    "plt.grid(axis='y')\n",
    "ax.set_xticklabels(['Chemical A', 'Chemical B', 'Chemical C'])\n",
    "plt.show()"
   ]
  },
  {
   "cell_type": "code",
   "execution_count": 81,
   "id": "2c404a3f",
   "metadata": {},
   "outputs": [
    {
     "data": {
      "text/plain": [
       "LeveneResult(statistic=0.0, pvalue=1.0)"
      ]
     },
     "execution_count": 81,
     "metadata": {},
     "output_type": "execute_result"
    }
   ],
   "source": [
    "df2_levene=spt.levene(A,B,C , center='mean')\n",
    "df2_levene"
   ]
  },
  {
   "cell_type": "markdown",
   "id": "f35dc7a2",
   "metadata": {},
   "source": [
    " "
   ]
  }
 ],
 "metadata": {
  "kernelspec": {
   "display_name": "Python 3 (ipykernel)",
   "language": "python",
   "name": "python3"
  },
  "language_info": {
   "codemirror_mode": {
    "name": "ipython",
    "version": 3
   },
   "file_extension": ".py",
   "mimetype": "text/x-python",
   "name": "python",
   "nbconvert_exporter": "python",
   "pygments_lexer": "ipython3",
   "version": "3.11.5"
  }
 },
 "nbformat": 4,
 "nbformat_minor": 5
}

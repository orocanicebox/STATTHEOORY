{
 "cells": [
  {
   "cell_type": "code",
   "execution_count": 110,
   "id": "8b2ecb86",
   "metadata": {},
   "outputs": [],
   "source": [
    "import numpy as np"
   ]
  },
  {
   "cell_type": "code",
   "execution_count": 60,
   "id": "ecb976a2",
   "metadata": {},
   "outputs": [
    {
     "data": {
      "text/html": [
       "<div>\n",
       "<style scoped>\n",
       "    .dataframe tbody tr th:only-of-type {\n",
       "        vertical-align: middle;\n",
       "    }\n",
       "\n",
       "    .dataframe tbody tr th {\n",
       "        vertical-align: top;\n",
       "    }\n",
       "\n",
       "    .dataframe thead th {\n",
       "        text-align: right;\n",
       "    }\n",
       "</style>\n",
       "<table border=\"1\" class=\"dataframe\">\n",
       "  <thead>\n",
       "    <tr style=\"text-align: right;\">\n",
       "      <th></th>\n",
       "      <th>NORMAL</th>\n",
       "      <th>SKEWED-RIGHT</th>\n",
       "      <th>SKEWED-LEFT</th>\n",
       "      <th>UNIFORM</th>\n",
       "    </tr>\n",
       "  </thead>\n",
       "  <tbody>\n",
       "    <tr>\n",
       "      <th>1</th>\n",
       "      <td>67</td>\n",
       "      <td>31</td>\n",
       "      <td>102</td>\n",
       "      <td>12.1</td>\n",
       "    </tr>\n",
       "    <tr>\n",
       "      <th>2</th>\n",
       "      <td>70</td>\n",
       "      <td>43</td>\n",
       "      <td>55</td>\n",
       "      <td>12.1</td>\n",
       "    </tr>\n",
       "    <tr>\n",
       "      <th>3</th>\n",
       "      <td>63</td>\n",
       "      <td>30</td>\n",
       "      <td>70</td>\n",
       "      <td>12.4</td>\n",
       "    </tr>\n",
       "    <tr>\n",
       "      <th>4</th>\n",
       "      <td>65</td>\n",
       "      <td>30</td>\n",
       "      <td>95</td>\n",
       "      <td>12.1</td>\n",
       "    </tr>\n",
       "    <tr>\n",
       "      <th>5</th>\n",
       "      <td>68</td>\n",
       "      <td>38</td>\n",
       "      <td>73</td>\n",
       "      <td>12.1</td>\n",
       "    </tr>\n",
       "    <tr>\n",
       "      <th>6</th>\n",
       "      <td>60</td>\n",
       "      <td>26</td>\n",
       "      <td>79</td>\n",
       "      <td>12.2</td>\n",
       "    </tr>\n",
       "    <tr>\n",
       "      <th>7</th>\n",
       "      <td>70</td>\n",
       "      <td>29</td>\n",
       "      <td>60</td>\n",
       "      <td>12.2</td>\n",
       "    </tr>\n",
       "    <tr>\n",
       "      <th>8</th>\n",
       "      <td>64</td>\n",
       "      <td>55</td>\n",
       "      <td>73</td>\n",
       "      <td>12.2</td>\n",
       "    </tr>\n",
       "    <tr>\n",
       "      <th>9</th>\n",
       "      <td>69</td>\n",
       "      <td>46</td>\n",
       "      <td>89</td>\n",
       "      <td>11.9</td>\n",
       "    </tr>\n",
       "    <tr>\n",
       "      <th>10</th>\n",
       "      <td>61</td>\n",
       "      <td>26</td>\n",
       "      <td>85</td>\n",
       "      <td>12.2</td>\n",
       "    </tr>\n",
       "  </tbody>\n",
       "</table>\n",
       "</div>"
      ],
      "text/plain": [
       "    NORMAL  SKEWED-RIGHT  SKEWED-LEFT  UNIFORM\n",
       "1       67            31          102     12.1\n",
       "2       70            43           55     12.1\n",
       "3       63            30           70     12.4\n",
       "4       65            30           95     12.1\n",
       "5       68            38           73     12.1\n",
       "6       60            26           79     12.2\n",
       "7       70            29           60     12.2\n",
       "8       64            55           73     12.2\n",
       "9       69            46           89     11.9\n",
       "10      61            26           85     12.2"
      ]
     },
     "execution_count": 60,
     "metadata": {},
     "output_type": "execute_result"
    }
   ],
   "source": [
    "df= pd.read_csv('FA4.csv', index_col=[0])\n",
    "\n",
    "\n",
    "normal=df['NORMAL']\n",
    "skewed_right=df['SKEWED-RIGHT']\n",
    "skewed_left=df['SKEWED-LEFT']\n",
    "uniform=df['UNIFORM']\n",
    "\n",
    "df.head(10)"
   ]
  },
  {
   "cell_type": "markdown",
   "id": "476f04ab",
   "metadata": {},
   "source": [
    "### General formula for moments:"
   ]
  },
  {
   "cell_type": "markdown",
   "id": "00f48010",
   "metadata": {},
   "source": [
    "# $ m_k= 1/n \\sum_{i=1}^n (X_i - \\mu)^k $"
   ]
  },
  {
   "cell_type": "markdown",
   "id": "c5709b20",
   "metadata": {},
   "source": [
    "### Find the (a) first, (b) second, (c) third, and (d ) fourth moments for each of the sets of data (normal, skewed-right, skewed-left, uniform)."
   ]
  },
  {
   "cell_type": "code",
   "execution_count": 63,
   "id": "5ecbdbc3",
   "metadata": {},
   "outputs": [
    {
     "data": {
      "text/html": [
       "<div>\n",
       "<style scoped>\n",
       "    .dataframe tbody tr th:only-of-type {\n",
       "        vertical-align: middle;\n",
       "    }\n",
       "\n",
       "    .dataframe tbody tr th {\n",
       "        vertical-align: top;\n",
       "    }\n",
       "\n",
       "    .dataframe thead th {\n",
       "        text-align: right;\n",
       "    }\n",
       "</style>\n",
       "<table border=\"1\" class=\"dataframe\">\n",
       "  <thead>\n",
       "    <tr style=\"text-align: right;\">\n",
       "      <th></th>\n",
       "      <th>Moment Order</th>\n",
       "      <th>NORMAL</th>\n",
       "      <th>SKEWED_RIGHT</th>\n",
       "      <th>SKEWED_LEFT</th>\n",
       "      <th>UNIFORM</th>\n",
       "    </tr>\n",
       "  </thead>\n",
       "  <tbody>\n",
       "    <tr>\n",
       "      <th>0</th>\n",
       "      <td>1</td>\n",
       "      <td>-0.00000</td>\n",
       "      <td>0.00000</td>\n",
       "      <td>-0.0000</td>\n",
       "      <td>-0.00000</td>\n",
       "    </tr>\n",
       "    <tr>\n",
       "      <th>1</th>\n",
       "      <td>2</td>\n",
       "      <td>8.30560</td>\n",
       "      <td>178.88960</td>\n",
       "      <td>419.7600</td>\n",
       "      <td>0.07886</td>\n",
       "    </tr>\n",
       "    <tr>\n",
       "      <th>2</th>\n",
       "      <td>3</td>\n",
       "      <td>-0.47174</td>\n",
       "      <td>4588.12838</td>\n",
       "      <td>-12498.2640</td>\n",
       "      <td>0.00034</td>\n",
       "    </tr>\n",
       "    <tr>\n",
       "      <th>3</th>\n",
       "      <td>4</td>\n",
       "      <td>160.94863</td>\n",
       "      <td>210642.88344</td>\n",
       "      <td>927289.7472</td>\n",
       "      <td>0.01125</td>\n",
       "    </tr>\n",
       "  </tbody>\n",
       "</table>\n",
       "</div>"
      ],
      "text/plain": [
       "   Moment Order     NORMAL  SKEWED_RIGHT  SKEWED_LEFT  UNIFORM\n",
       "0             1   -0.00000       0.00000      -0.0000 -0.00000\n",
       "1             2    8.30560     178.88960     419.7600  0.07886\n",
       "2             3   -0.47174    4588.12838  -12498.2640  0.00034\n",
       "3             4  160.94863  210642.88344  927289.7472  0.01125"
      ]
     },
     "execution_count": 63,
     "metadata": {},
     "output_type": "execute_result"
    }
   ],
   "source": [
    "def moment(data, order):\n",
    "    mean= np.mean(data)\n",
    "    N= len(data)\n",
    "    return [(1/N) * sum((data - mean) ** k) for k in range(1, order + 1)]\n",
    "             \n",
    "normal_moments= moment(normal,4)\n",
    "skew_right_moments= moment(skewed_right,4)\n",
    "skew_left_moments= moment(skewed_left,4)\n",
    "uniform_moments= moment(uniform,4)\n",
    "\n",
    "moments= pd.DataFrame({\n",
    "    'Moment Order': [1, 2, 3, 4],\n",
    "    'NORMAL': normal_moments,\n",
    "    'SKEWED_RIGHT': skew_right_moments,\n",
    "    'SKEWED_LEFT': skew_left_moments,\n",
    "    'UNIFORM': uniform_moments,\n",
    "})\n",
    "\n",
    "rounded=moments.round(5)\n",
    "rounded.head()"
   ]
  },
  {
   "cell_type": "markdown",
   "id": "6d38c65d",
   "metadata": {},
   "source": [
    "### Find the (a) first, (b) second, (c) third, and (d ) fourth moments about the mean for each of the sets of data ."
   ]
  },
  {
   "cell_type": "code",
   "execution_count": 91,
   "id": "3fc9a686",
   "metadata": {},
   "outputs": [
    {
     "data": {
      "text/html": [
       "<div>\n",
       "<style scoped>\n",
       "    .dataframe tbody tr th:only-of-type {\n",
       "        vertical-align: middle;\n",
       "    }\n",
       "\n",
       "    .dataframe tbody tr th {\n",
       "        vertical-align: top;\n",
       "    }\n",
       "\n",
       "    .dataframe thead th {\n",
       "        text-align: right;\n",
       "    }\n",
       "</style>\n",
       "<table border=\"1\" class=\"dataframe\">\n",
       "  <thead>\n",
       "    <tr style=\"text-align: right;\">\n",
       "      <th></th>\n",
       "      <th>Moment Order</th>\n",
       "      <th>NORMAL mean</th>\n",
       "      <th>SKEWED_RIGHT mean</th>\n",
       "      <th>SKEWED_LEFT mean</th>\n",
       "      <th>UNIFORM mean</th>\n",
       "    </tr>\n",
       "  </thead>\n",
       "  <tbody>\n",
       "    <tr>\n",
       "      <th>0</th>\n",
       "      <td>1</td>\n",
       "      <td>-0.00000</td>\n",
       "      <td>0.00000</td>\n",
       "      <td>-0.0000</td>\n",
       "      <td>-0.00000</td>\n",
       "    </tr>\n",
       "    <tr>\n",
       "      <th>1</th>\n",
       "      <td>2</td>\n",
       "      <td>8.30560</td>\n",
       "      <td>178.88960</td>\n",
       "      <td>419.7600</td>\n",
       "      <td>0.07886</td>\n",
       "    </tr>\n",
       "    <tr>\n",
       "      <th>2</th>\n",
       "      <td>3</td>\n",
       "      <td>-0.47174</td>\n",
       "      <td>4588.12838</td>\n",
       "      <td>-12498.2640</td>\n",
       "      <td>0.00034</td>\n",
       "    </tr>\n",
       "    <tr>\n",
       "      <th>3</th>\n",
       "      <td>4</td>\n",
       "      <td>160.94863</td>\n",
       "      <td>210642.88344</td>\n",
       "      <td>927289.7472</td>\n",
       "      <td>0.01125</td>\n",
       "    </tr>\n",
       "  </tbody>\n",
       "</table>\n",
       "</div>"
      ],
      "text/plain": [
       "   Moment Order  NORMAL mean  SKEWED_RIGHT mean  SKEWED_LEFT mean  \\\n",
       "0             1     -0.00000            0.00000           -0.0000   \n",
       "1             2      8.30560          178.88960          419.7600   \n",
       "2             3     -0.47174         4588.12838       -12498.2640   \n",
       "3             4    160.94863       210642.88344       927289.7472   \n",
       "\n",
       "   UNIFORM mean  \n",
       "0      -0.00000  \n",
       "1       0.07886  \n",
       "2       0.00034  \n",
       "3       0.01125  "
      ]
     },
     "execution_count": 91,
     "metadata": {},
     "output_type": "execute_result"
    }
   ],
   "source": [
    "def moment_mean(data,value, order):\n",
    "    mean= np.mean(data)\n",
    "    N= len(data)\n",
    "    return [(1/N) * sum((data - value) ** k) for k in range(1, order + 1)]\n",
    "             \n",
    "normal_mean_moments= moment_mean(normal,np.mean(normal), 4)\n",
    "skew_right_mean_moments= moment_mean(skewed_right, np.mean(skewed_right),4)\n",
    "skew_left_mean_moments= moment_mean(skewed_left, np.mean(skewed_left), 4)\n",
    "uniform_mean_moments= moment_mean(uniform, np.mean(uniform), 4)\n",
    "\n",
    "moments_mean= pd.DataFrame({\n",
    "    'Moment Order': [1, 2, 3, 4],\n",
    "    'NORMAL mean': normal_moments,\n",
    "    'SKEWED_RIGHT mean': skew_right_moments,\n",
    "    'SKEWED_LEFT mean': skew_left_moments,\n",
    "    'UNIFORM mean': uniform_moments,\n",
    "})\n",
    "\n",
    "rounded_mean=moments_mean.round(5)\n",
    "rounded_mean.head()"
   ]
  },
  {
   "cell_type": "markdown",
   "id": "26b9d5ca",
   "metadata": {},
   "source": [
    "### Find the (a) first, (b) second, (c) third, and (d ) fourth moments about the number 75 for the set of female height measurements."
   ]
  },
  {
   "cell_type": "code",
   "execution_count": 92,
   "id": "b3ebb9a2",
   "metadata": {},
   "outputs": [
    {
     "data": {
      "text/html": [
       "<div>\n",
       "<style scoped>\n",
       "    .dataframe tbody tr th:only-of-type {\n",
       "        vertical-align: middle;\n",
       "    }\n",
       "\n",
       "    .dataframe tbody tr th {\n",
       "        vertical-align: top;\n",
       "    }\n",
       "\n",
       "    .dataframe thead th {\n",
       "        text-align: right;\n",
       "    }\n",
       "</style>\n",
       "<table border=\"1\" class=\"dataframe\">\n",
       "  <thead>\n",
       "    <tr style=\"text-align: right;\">\n",
       "      <th></th>\n",
       "      <th>Moment Order</th>\n",
       "      <th>Female Height</th>\n",
       "    </tr>\n",
       "  </thead>\n",
       "  <tbody>\n",
       "    <tr>\n",
       "      <th>0</th>\n",
       "      <td>1</td>\n",
       "      <td>-0.00000</td>\n",
       "    </tr>\n",
       "    <tr>\n",
       "      <th>1</th>\n",
       "      <td>2</td>\n",
       "      <td>8.30560</td>\n",
       "    </tr>\n",
       "    <tr>\n",
       "      <th>2</th>\n",
       "      <td>3</td>\n",
       "      <td>-0.47174</td>\n",
       "    </tr>\n",
       "    <tr>\n",
       "      <th>3</th>\n",
       "      <td>4</td>\n",
       "      <td>160.94863</td>\n",
       "    </tr>\n",
       "  </tbody>\n",
       "</table>\n",
       "</div>"
      ],
      "text/plain": [
       "   Moment Order  Female Height\n",
       "0             1       -0.00000\n",
       "1             2        8.30560\n",
       "2             3       -0.47174\n",
       "3             4      160.94863"
      ]
     },
     "execution_count": 92,
     "metadata": {},
     "output_type": "execute_result"
    }
   ],
   "source": [
    "def moment_value(data,value, order):\n",
    "    mean= np.mean(data)\n",
    "    N= len(data)\n",
    "    return [(1/N) * sum((data - value) ** k) for k in range(1, order + 1)]\n",
    "             \n",
    "normal_height_moments= moment_value(normal, 75, 4)\n",
    "\n",
    "\n",
    "moments_75= pd.DataFrame({\n",
    "    'Moment Order': [1, 2, 3, 4],\n",
    "    'Female Height': normal_moments,\n",
    "    \n",
    "})\n",
    "\n",
    "rounded_75=moments_75.round(5)\n",
    "rounded_75.head()"
   ]
  },
  {
   "cell_type": "markdown",
   "id": "c22157d5",
   "metadata": {},
   "source": [
    "### Using the results of items 2 and 3 for the set of female height measurements, verify the relations between the moments"
   ]
  },
  {
   "cell_type": "markdown",
   "id": "a5acc9cc",
   "metadata": {},
   "source": [
    "# (a) $  m_2=  m'_2 - m'^2_1  $"
   ]
  },
  {
   "cell_type": "code",
   "execution_count": 76,
   "id": "c8086a0e",
   "metadata": {},
   "outputs": [
    {
     "data": {
      "text/html": [
       "<div>\n",
       "<style scoped>\n",
       "    .dataframe tbody tr th:only-of-type {\n",
       "        vertical-align: middle;\n",
       "    }\n",
       "\n",
       "    .dataframe tbody tr th {\n",
       "        vertical-align: top;\n",
       "    }\n",
       "\n",
       "    .dataframe thead th {\n",
       "        text-align: right;\n",
       "    }\n",
       "</style>\n",
       "<table border=\"1\" class=\"dataframe\">\n",
       "  <thead>\n",
       "    <tr style=\"text-align: right;\">\n",
       "      <th></th>\n",
       "      <th>Moment Order</th>\n",
       "      <th>NORMAL mean</th>\n",
       "      <th>SKEWED_RIGHT mean</th>\n",
       "      <th>SKEWED_LEFT mean</th>\n",
       "      <th>UNIFORM mean</th>\n",
       "    </tr>\n",
       "  </thead>\n",
       "  <tbody>\n",
       "    <tr>\n",
       "      <th>0</th>\n",
       "      <td>1</td>\n",
       "      <td>-0.00000</td>\n",
       "      <td>0.00000</td>\n",
       "      <td>-0.0000</td>\n",
       "      <td>-0.00000</td>\n",
       "    </tr>\n",
       "    <tr>\n",
       "      <th>1</th>\n",
       "      <td>2</td>\n",
       "      <td>8.30560</td>\n",
       "      <td>178.88960</td>\n",
       "      <td>419.7600</td>\n",
       "      <td>0.07886</td>\n",
       "    </tr>\n",
       "    <tr>\n",
       "      <th>2</th>\n",
       "      <td>3</td>\n",
       "      <td>-0.47174</td>\n",
       "      <td>4588.12838</td>\n",
       "      <td>-12498.2640</td>\n",
       "      <td>0.00034</td>\n",
       "    </tr>\n",
       "    <tr>\n",
       "      <th>3</th>\n",
       "      <td>4</td>\n",
       "      <td>160.94863</td>\n",
       "      <td>210642.88344</td>\n",
       "      <td>927289.7472</td>\n",
       "      <td>0.01125</td>\n",
       "    </tr>\n",
       "  </tbody>\n",
       "</table>\n",
       "</div>"
      ],
      "text/plain": [
       "   Moment Order  NORMAL mean  SKEWED_RIGHT mean  SKEWED_LEFT mean  \\\n",
       "0             1     -0.00000            0.00000           -0.0000   \n",
       "1             2      8.30560          178.88960          419.7600   \n",
       "2             3     -0.47174         4588.12838       -12498.2640   \n",
       "3             4    160.94863       210642.88344       927289.7472   \n",
       "\n",
       "   UNIFORM mean  \n",
       "0      -0.00000  \n",
       "1       0.07886  \n",
       "2       0.00034  \n",
       "3       0.01125  "
      ]
     },
     "execution_count": 76,
     "metadata": {},
     "output_type": "execute_result"
    }
   ],
   "source": [
    "rounded_mean"
   ]
  },
  {
   "cell_type": "markdown",
   "id": "e44cd05a",
   "metadata": {},
   "source": [
    "### The formula for raw moment is given by: $m'_k= 1/N \\sum_{i=1}^N X_i^k$"
   ]
  },
  {
   "cell_type": "markdown",
   "id": "7ce6aab9",
   "metadata": {},
   "source": [
    "### $m'_1= 1/50 \\sum_{i=1}^{50}X_i$\n",
    "### $m'_2= 1/50 \\sum_{i=1}^{50}X_i^2$"
   ]
  },
  {
   "cell_type": "code",
   "execution_count": 115,
   "id": "b0b3c2d2",
   "metadata": {},
   "outputs": [
    {
     "name": "stdout",
     "output_type": "stream",
     "text": [
      "Raw m1=  65.12 Raw m2=  4248.92\n"
     ]
    }
   ],
   "source": [
    "raw_m1=(1/N) * sum(normal[i]**1 for i in range(1, len(normal)+1))\n",
    "raw_m2=(1/N) * sum(normal[i]**2 for i in range(1, len(normal)+1))\n",
    "print(\"Raw m1= \",raw_m1,\"Raw m2= \",raw_m2)"
   ]
  },
  {
   "cell_type": "code",
   "execution_count": 106,
   "id": "0d3e03ca",
   "metadata": {},
   "outputs": [
    {
     "name": "stdout",
     "output_type": "stream",
     "text": [
      "The central m2 in the dataframe is 8.306\n",
      "The computed central m2 is 8.306\n",
      "The relation for m2 is True\n"
     ]
    }
   ],
   "source": [
    "m2=round(raw_m2-raw_m1**2, 3)\n",
    "m2_veri=round(normal_mean_moments[1],3)\n",
    "print(f\"The central m2 in the dataframe is {m2_veri}\")\n",
    "print(f\"The computed central m2 is {m2}\")\n",
    "if m2==m2_veri:\n",
    "    print ('The relation for m2 is True')\n",
    "else: \n",
    "    print ('False')\n",
    "    "
   ]
  },
  {
   "cell_type": "markdown",
   "id": "e0587a53",
   "metadata": {},
   "source": [
    "# (b) $ m_3=  m'_3 - 3 m'_1m'_2 + 2 m'^3_1$\n",
    "\n",
    "### $ m'_3= 1/50 \\sum_{i=1}^{50}X_i^3 $"
   ]
  },
  {
   "cell_type": "code",
   "execution_count": 112,
   "id": "00702948",
   "metadata": {},
   "outputs": [
    {
     "name": "stdout",
     "output_type": "stream",
     "text": [
      "Raw m3=  277770.92\n"
     ]
    }
   ],
   "source": [
    "raw_m3=(1/N) * sum(normal[i]**3 for i in range(1, len(normal)+1))\n",
    "print(\"Raw m3= \", raw_m3)"
   ]
  },
  {
   "cell_type": "code",
   "execution_count": 116,
   "id": "e95019ea",
   "metadata": {},
   "outputs": [
    {
     "name": "stdout",
     "output_type": "stream",
     "text": [
      "The central m3 in the dataframe is -0.472\n",
      "The computed central m3 is -0.472\n",
      "The relation for m3 is True\n"
     ]
    }
   ],
   "source": [
    "m3=round(raw_m3-(3*raw_m1*raw_m2)+(2*(raw_m1**3)), 3)\n",
    "m3_veri=round(normal_mean_moments[2],3)\n",
    "print(f\"The central m3 in the dataframe is {m3_veri}\")\n",
    "print(f\"The computed central m3 is {m3}\")\n",
    "if m3==m3_veri:\n",
    "    print ('The relation for m3 is True')\n",
    "else: \n",
    "    print ('False')\n",
    "    "
   ]
  },
  {
   "cell_type": "markdown",
   "id": "0570f1a0",
   "metadata": {},
   "source": [
    "# (c) $ m_4=  m'_4 - 4 m'_1m'_3 + 6 m'^2_1 m'_2 - 3 m'^4_1$\n",
    "\n",
    "### $ m'_4= 1/50 \\sum_{i=1}^{50}X_i^4 $"
   ]
  },
  {
   "cell_type": "code",
   "execution_count": 117,
   "id": "81dbecd9",
   "metadata": {},
   "outputs": [
    {
     "name": "stdout",
     "output_type": "stream",
     "text": [
      "Raw m4=  18194173.64\n"
     ]
    }
   ],
   "source": [
    "raw_m4=(1/N) * sum(normal[i]**4 for i in range(1, len(normal)+1))\n",
    "print(\"Raw m4= \", raw_m4)"
   ]
  },
  {
   "cell_type": "code",
   "execution_count": 119,
   "id": "b7b6b6b3",
   "metadata": {},
   "outputs": [
    {
     "name": "stdout",
     "output_type": "stream",
     "text": [
      "The central m4 in the dataframe is 160.949\n",
      "The computed central m4 is 160.949\n",
      "The relation for m3 is True\n"
     ]
    }
   ],
   "source": [
    "m4=round(raw_m4-(4*raw_m1*raw_m3)+(6*(raw_m1**2)*raw_m2)-3*(raw_m1**4), 3)\n",
    "m4_veri=round(normal_mean_moments[3],3)\n",
    "print(f\"The central m4 in the dataframe is {m4_veri}\")\n",
    "print(f\"The computed central m4 is {m4}\")\n",
    "if m4==m4_veri:\n",
    "    print ('The relation for m3 is True')\n",
    "else: \n",
    "    print ('False')\n",
    "    "
   ]
  },
  {
   "cell_type": "code",
   "execution_count": null,
   "id": "f6de490c",
   "metadata": {},
   "outputs": [],
   "source": []
  }
 ],
 "metadata": {
  "kernelspec": {
   "display_name": "Python 3 (ipykernel)",
   "language": "python",
   "name": "python3"
  },
  "language_info": {
   "codemirror_mode": {
    "name": "ipython",
    "version": 3
   },
   "file_extension": ".py",
   "mimetype": "text/x-python",
   "name": "python",
   "nbconvert_exporter": "python",
   "pygments_lexer": "ipython3",
   "version": "3.11.5"
  }
 },
 "nbformat": 4,
 "nbformat_minor": 5
}

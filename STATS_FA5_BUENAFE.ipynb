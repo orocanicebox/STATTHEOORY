{
 "cells": [
  {
   "cell_type": "code",
   "execution_count": 56,
   "id": "ad5bc9bf",
   "metadata": {},
   "outputs": [],
   "source": [
    "import numpy as np\n",
    "import scipy as sp\n",
    "import pandas as pd\n",
    "import matplotlib as mpl"
   ]
  },
  {
   "cell_type": "markdown",
   "id": "60f11aa1",
   "metadata": {},
   "source": [
    "### 8.18"
   ]
  },
  {
   "cell_type": "markdown",
   "id": "55a37a94",
   "metadata": {},
   "source": [
    "## Show that $ \\mu_\\bar{x} = \\mu$"
   ]
  },
  {
   "cell_type": "code",
   "execution_count": 11,
   "id": "cff1ade7",
   "metadata": {},
   "outputs": [
    {
     "name": "stdout",
     "output_type": "stream",
     "text": [
      "Population mean: 11.966950545248084\n",
      "Mean of the sample size (n=2): 11.970744174483293\n"
     ]
    }
   ],
   "source": [
    "population_size=10000\n",
    "\n",
    "meanx= 12\n",
    "varx= 6\n",
    "\n",
    "b=meanx + np.sqrt(3 * varx)\n",
    "a=meanx - np.sqrt(3 * varx)\n",
    "\n",
    "sample_size=2\n",
    "num_sample=10000\n",
    "\n",
    "population=np.random.uniform(low=a, high=b, size=population_size)\n",
    "\n",
    "population_mean=np.mean(population)\n",
    "\n",
    "\n",
    "\n",
    "samples_mean=[]\n",
    "\n",
    "for _ in range (num_sample):\n",
    "    sample=np.random.choice(population, size=sample_size, replace=True)\n",
    "    \n",
    "    sample_mean=np.mean(sample)\n",
    "    \n",
    "    samples_mean.append(sample_mean)\n",
    "    \n",
    "print(f\"Population mean: {population_mean}\")\n",
    "print(f\"Mean of the sample size (n=2): {np.mean(samples_mean)}\")"
   ]
  },
  {
   "cell_type": "markdown",
   "id": "3ef32a6d",
   "metadata": {},
   "source": [
    "## Show that $ \\sigma^2_\\bar{x} = \\sigma^2/2$"
   ]
  },
  {
   "cell_type": "code",
   "execution_count": 15,
   "id": "9f1e65ff",
   "metadata": {},
   "outputs": [
    {
     "name": "stdout",
     "output_type": "stream",
     "text": [
      "Population Variance: 6.0079801124714995\n",
      "Sampling variance (n=2): 3.1554436208840472e-30\n",
      "Theoretical Sampling variance(Population Variance / 2): 3.1554436208840472e-30\n"
     ]
    }
   ],
   "source": [
    "population_size=10000\n",
    "\n",
    "meanx= 12\n",
    "varx= 6\n",
    "\n",
    "b=meanx + np.sqrt(3 * varx)\n",
    "a=meanx - np.sqrt(3 * varx)\n",
    "\n",
    "sample_size=2\n",
    "num_sample=10000\n",
    "\n",
    "population=np.random.uniform(low=a, high=b, size=population_size)\n",
    "\n",
    "population_var=np.var(population)\n",
    "\n",
    "\n",
    "\n",
    "samples_mean=[]\n",
    "\n",
    "for _ in range (num_sample):\n",
    "    sample=np.random.choice(population, size=sample_size, replace=True)\n",
    "    \n",
    "    sample_var=np.mean(sample)\n",
    "    \n",
    "    samples_mean.append(sample_mean)\n",
    "    \n",
    "print(f\"Population Variance: {population_var}\")\n",
    "print(f\"Sampling variance (n=2): {np.var(samples_mean)}\")\n",
    "print(f\"Theoretical Sampling variance(Population Variance / 2): {np.var(samples_mean)}\")"
   ]
  },
  {
   "cell_type": "markdown",
   "id": "8551ac3b",
   "metadata": {},
   "source": [
    "### 8.21"
   ]
  },
  {
   "cell_type": "code",
   "execution_count": 16,
   "id": "4f99d18d",
   "metadata": {},
   "outputs": [
    {
     "name": "stdout",
     "output_type": "stream",
     "text": [
      "Population Mean: 9.0\n",
      "Population Variance: 20.0\n",
      "Sampling distribution mean: 12.661566086927754\n",
      "Sampling distribution standard deviation: 1.7763568394002505e-15\n"
     ]
    }
   ],
   "source": [
    "\n",
    "population=[3,7,11,15]\n",
    "\n",
    "mean=np.mean(population)\n",
    "var=np.var(population)\n",
    "sdv=np.sqrt(var)\n",
    "\n",
    "b=mean + np.sqrt(3 * var)\n",
    "a=mean - np.sqrt(3 * var)\n",
    "\n",
    "population_random=np.random.uniform(low=a, high=b, size=population_size)\n",
    "\n",
    "\n",
    "sample_size=2\n",
    "num_sample=10000\n",
    "\n",
    "samples_mean=[]\n",
    "\n",
    "for _ in range (num_sample):\n",
    "    sample=np.random.choice(population, size=sample_size, replace=True)\n",
    "    \n",
    "    sample_var=np.mean(sample)\n",
    "    \n",
    "    samples_mean.append(sample_mean)\n",
    "    \n",
    "print(f\"Population Mean: {mean}\")\n",
    "print(f\"Population Variance: {var}\")\n",
    "print(f\"Sampling distribution mean: {np.mean(samples_mean)}\")\n",
    "print(f\"Sampling distribution standard deviation: {np.std(samples_mean)}\")"
   ]
  },
  {
   "cell_type": "markdown",
   "id": "ce953430",
   "metadata": {},
   "source": [
    "### 8.34"
   ]
  },
  {
   "cell_type": "markdown",
   "id": "e256e87f",
   "metadata": {},
   "source": [
    "### Find the probability that of the next 200 children born, (a) less than 40% will be boys,"
   ]
  },
  {
   "cell_type": "markdown",
   "id": "4f7a9897",
   "metadata": {},
   "source": [
    "### Formula: $Z= (X - \\mu)/ \\sigma$"
   ]
  },
  {
   "cell_type": "code",
   "execution_count": 26,
   "id": "1bb1e322",
   "metadata": {},
   "outputs": [
    {
     "name": "stdout",
     "output_type": "stream",
     "text": [
      "Probability: 0.23%\n"
     ]
    }
   ],
   "source": [
    "N= 200\n",
    "Prob= 0.5\n",
    "mean= N * Prob\n",
    "\n",
    "sdv=np.sqrt(N*Prob*(1-Prob))\n",
    "\n",
    "X= N * 0.4\n",
    "\n",
    "Z= (X-mean)/sdv\n",
    "Z\n",
    "\n",
    "Probability=sp.stats.norm.sf(abs(Z))*100\n",
    "print(f\"Probability: {Probability:.2f}%\")"
   ]
  },
  {
   "cell_type": "markdown",
   "id": "5c127e4a",
   "metadata": {},
   "source": [
    "### (b) between 43% and 57% will be girls"
   ]
  },
  {
   "cell_type": "code",
   "execution_count": 36,
   "id": "f90095ee",
   "metadata": {},
   "outputs": [
    {
     "name": "stdout",
     "output_type": "stream",
     "text": [
      "Zscore43: -1.979898987322333\n",
      "Zscore57: 1.979898987322331\n"
     ]
    }
   ],
   "source": [
    "X1= N * 0.43\n",
    "X2= N * 0.57\n",
    "\n",
    "Z1= (X1-mean)/sdv\n",
    "Z2= (X2-mean)/sdv\n",
    "print(f\"Zscore43: {Z1}\")\n",
    "print(f\"Zscore57: {Z2}\")\n"
   ]
  },
  {
   "cell_type": "code",
   "execution_count": 43,
   "id": "af088414",
   "metadata": {},
   "outputs": [
    {
     "name": "stdout",
     "output_type": "stream",
     "text": [
      "Prob43: 0.023857440118675605\n",
      "Prob57: 0.9761425598813243\n"
     ]
    }
   ],
   "source": [
    "Probability43=sp.stats.norm.sf(abs(Z1))\n",
    "Probability57=sp.stats.norm.cdf(Z2)\n",
    "\n",
    "print(f\"Prob43: {Probability43}\")\n",
    "print(f\"Prob57: {Probability57}\")\n",
    "\n"
   ]
  },
  {
   "cell_type": "code",
   "execution_count": 45,
   "id": "0a95ff40",
   "metadata": {},
   "outputs": [
    {
     "name": "stdout",
     "output_type": "stream",
     "text": [
      "Probability between 43% and %57: 95.23%\n"
     ]
    }
   ],
   "source": [
    "ProbabilityBetween= Probability57-Probability43\n",
    "print(f\"Probability between 43% and %57: {ProbabilityBetween*100:.2f}%\")"
   ]
  },
  {
   "cell_type": "markdown",
   "id": "58c22eba",
   "metadata": {},
   "source": [
    "### and (c) more than 54% will be boys. Assume equal probabilities for the births of boys and girls."
   ]
  },
  {
   "cell_type": "code",
   "execution_count": 47,
   "id": "dbefb9fd",
   "metadata": {},
   "outputs": [
    {
     "name": "stdout",
     "output_type": "stream",
     "text": [
      "Zscore54: 1.131370849898476\n",
      "Zscore100: 14.14213562373095\n"
     ]
    }
   ],
   "source": [
    "X1= N * 0.54\n",
    "X2= N\n",
    "\n",
    "Z1= (X1-mean)/sdv\n",
    "Z2= (X2-mean)/sdv\n",
    "print(f\"Zscore54: {Z1}\")\n",
    "print(f\"Zscore100: {Z2}\")\n"
   ]
  },
  {
   "cell_type": "code",
   "execution_count": 52,
   "id": "83995fa0",
   "metadata": {},
   "outputs": [
    {
     "name": "stdout",
     "output_type": "stream",
     "text": [
      "Prob54: 0.8710504823538303\n",
      "Prob57: 1.0\n"
     ]
    }
   ],
   "source": [
    "Probability54=sp.stats.norm.cdf(abs(Z1))\n",
    "Probability100=sp.stats.norm.cdf(Z2)\n",
    "\n",
    "print(f\"Prob54: {Probability54}\")\n",
    "print(f\"Prob100: {Probability100}\")\n"
   ]
  },
  {
   "cell_type": "code",
   "execution_count": 54,
   "id": "70c6a9fc",
   "metadata": {},
   "outputs": [
    {
     "name": "stdout",
     "output_type": "stream",
     "text": [
      "Probability more than 54%: 12.89%\n"
     ]
    }
   ],
   "source": [
    "ProbabilityBetween= Probability100-Probability54\n",
    "print(f\"Probability more than 54%: {ProbabilityBetween*100:.2f}%\")"
   ]
  },
  {
   "cell_type": "markdown",
   "id": "b14ea936",
   "metadata": {},
   "source": [
    "### 8.49"
   ]
  },
  {
   "cell_type": "code",
   "execution_count": 70,
   "id": "53377a7d",
   "metadata": {},
   "outputs": [
    {
     "name": "stdout",
     "output_type": "stream",
     "text": [
      "Mean: 12.000000000000002\n",
      "Variance: 10.799999999999983\n"
     ]
    }
   ],
   "source": [
    "table={\n",
    "    \"x\":[6,9,12,15,18],\n",
    "    \"px\":[0.1,0.2,0.4,0.2,0.1]\n",
    "}\n",
    "\n",
    "df=pd.DataFrame(table)\n",
    "\n",
    "mean=sum(df['x']* df['px'])\n",
    "variance=sum(df['x']**2 *  df['px']) - mean**2\n",
    "print(f\"Mean: {mean}\")\n",
    "print(f\"Variance: {variance}\")"
   ]
  },
  {
   "cell_type": "code",
   "execution_count": 78,
   "id": "0f9771ac",
   "metadata": {},
   "outputs": [
    {
     "name": "stdout",
     "output_type": "stream",
     "text": [
      "            0\n",
      "0   12.101718\n",
      "1   15.573564\n",
      "2   10.067303\n",
      "3   15.531180\n",
      "4   13.695284\n",
      "5   11.660870\n",
      "6   16.141851\n",
      "7   11.660870\n",
      "8   13.937613\n",
      "9   16.141851\n",
      "10  13.695284\n",
      "11  13.695284\n",
      "12  13.695284\n",
      "13  16.510194\n",
      "14  12.271541\n",
      "15  15.373620\n",
      "16  14.305956\n",
      "17  10.067303\n",
      "18  15.773509\n",
      "19  10.067303\n",
      "20  14.305956\n",
      "21  11.903198\n",
      "22  13.695284\n",
      "23  13.695284\n",
      "24  11.903198\n",
      "25  15.573564\n"
     ]
    }
   ],
   "source": [
    "population_size=len(df['x'])\n",
    "\n",
    "b=mean + np.sqrt(3 * variance)\n",
    "a=mean - np.sqrt(3 * variance)\n",
    "\n",
    "sample_size=2\n",
    "num_sample=25\n",
    "\n",
    "population=np.random.uniform(low=a, high=b, size=population_size+1)\n",
    "\n",
    "population_mean=np.mean(population)\n",
    "\n",
    "\n",
    "\n",
    "samples_mean=[]\n",
    "\n",
    "for _ in range (num_sample + 1):\n",
    "    sample=np.random.choice(population, size=sample_size, replace=True)\n",
    "    \n",
    "    sample_mean=np.mean(sample)\n",
    "    \n",
    "    samples_mean.append(sample_mean)\n",
    "\n",
    "mean_table=pd.DataFrame(samples_mean)\n",
    "print(mean_table)"
   ]
  },
  {
   "cell_type": "code",
   "execution_count": null,
   "id": "4103d541",
   "metadata": {},
   "outputs": [],
   "source": []
  }
 ],
 "metadata": {
  "kernelspec": {
   "display_name": "Python 3 (ipykernel)",
   "language": "python",
   "name": "python3"
  },
  "language_info": {
   "codemirror_mode": {
    "name": "ipython",
    "version": 3
   },
   "file_extension": ".py",
   "mimetype": "text/x-python",
   "name": "python",
   "nbconvert_exporter": "python",
   "pygments_lexer": "ipython3",
   "version": "3.11.5"
  }
 },
 "nbformat": 4,
 "nbformat_minor": 5
}

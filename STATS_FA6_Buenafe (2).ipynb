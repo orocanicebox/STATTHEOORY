{
 "cells": [
  {
   "cell_type": "code",
   "execution_count": 10,
   "metadata": {},
   "outputs": [],
   "source": [
    "import numpy as np\n",
    "import pandas as pd"
   ]
  },
  {
   "cell_type": "code",
   "execution_count": 11,
   "metadata": {},
   "outputs": [
    {
     "name": "stdout",
     "output_type": "stream",
     "text": [
      "25th percentile: 69.0\n",
      "50th percentile (Median): 79.0\n",
      "75th percentile: 89.0\n"
     ]
    },
    {
     "data": {
      "text/html": [
       "<div>\n",
       "<style scoped>\n",
       "    .dataframe tbody tr th:only-of-type {\n",
       "        vertical-align: middle;\n",
       "    }\n",
       "\n",
       "    .dataframe tbody tr th {\n",
       "        vertical-align: top;\n",
       "    }\n",
       "\n",
       "    .dataframe thead th {\n",
       "        text-align: right;\n",
       "    }\n",
       "</style>\n",
       "<table border=\"1\" class=\"dataframe\">\n",
       "  <thead>\n",
       "    <tr style=\"text-align: right;\">\n",
       "      <th></th>\n",
       "      <th>Grades</th>\n",
       "    </tr>\n",
       "  </thead>\n",
       "  <tbody>\n",
       "    <tr>\n",
       "      <th>110</th>\n",
       "      <td>59</td>\n",
       "    </tr>\n",
       "    <tr>\n",
       "      <th>111</th>\n",
       "      <td>59</td>\n",
       "    </tr>\n",
       "    <tr>\n",
       "      <th>112</th>\n",
       "      <td>59</td>\n",
       "    </tr>\n",
       "    <tr>\n",
       "      <th>113</th>\n",
       "      <td>59</td>\n",
       "    </tr>\n",
       "    <tr>\n",
       "      <th>114</th>\n",
       "      <td>59</td>\n",
       "    </tr>\n",
       "    <tr>\n",
       "      <th>115</th>\n",
       "      <td>59</td>\n",
       "    </tr>\n",
       "    <tr>\n",
       "      <th>116</th>\n",
       "      <td>49</td>\n",
       "    </tr>\n",
       "    <tr>\n",
       "      <th>117</th>\n",
       "      <td>49</td>\n",
       "    </tr>\n",
       "    <tr>\n",
       "      <th>118</th>\n",
       "      <td>49</td>\n",
       "    </tr>\n",
       "    <tr>\n",
       "      <th>119</th>\n",
       "      <td>39</td>\n",
       "    </tr>\n",
       "  </tbody>\n",
       "</table>\n",
       "</div>"
      ],
      "text/plain": [
       "     Grades\n",
       "110      59\n",
       "111      59\n",
       "112      59\n",
       "113      59\n",
       "114      59\n",
       "115      59\n",
       "116      49\n",
       "117      49\n",
       "118      49\n",
       "119      39"
      ]
     },
     "execution_count": 11,
     "metadata": {},
     "output_type": "execute_result"
    }
   ],
   "source": [
    "grades = [100] * 9 + [89] * 32 + [79] * 43 + [69] * 21 + [59] * 11 + [49] * 3 + [39] * 1\n",
    "\n",
    "table=pd.DataFrame(grades)\n",
    "\n",
    "Q1= np.percentile(grades, 25)\n",
    "Q2 = np.percentile(grades, 50)\n",
    "Q3 = np.percentile(grades, 75)\n",
    "\n",
    "print(f\"25th percentile: {Q1}\")\n",
    "print(f\"50th percentile (Median): {Q2}\")\n",
    "print(f\"75th percentile: {Q3}\")\n",
    "\n",
    "table.columns=['Grades']\n",
    "table.head(10)\n",
    "table.tail(10)"
   ]
  },
  {
   "cell_type": "code",
   "execution_count": 13,
   "metadata": {},
   "outputs": [
    {
     "name": "stdout",
     "output_type": "stream",
     "text": [
      "Absolute Dispersion: Statistics = 8.0 , Algebra = 7.6\n",
      "Relative Dispersion: Statistics = 10.26%, Algebra = 10.41%\n"
     ]
    }
   ],
   "source": [
    "\n",
    "n=150\n",
    "\n",
    "mean_Stats= 78\n",
    "sdv_Stats = 8.0\n",
    "\n",
    "mean_Alg= 73\n",
    "sdv_Alg = 7.6\n",
    "\n",
    "Stat_Abdisp = sdv_Stats \n",
    "Alg_Abdisp = sdv_Alg\n",
    "\n",
    "Stats_cv = (sdv_Stats / mean_Stats) * 100\n",
    "Alg_cv = (sdv_Alg / mean_Alg) * 100\n",
    "\n",
    "print(f\"Absolute Dispersion: Statistics = {Stat_Abdisp} , Algebra = {Alg_Abdisp}\")\n",
    "print(f\"Relative Dispersion: Statistics = {Stats_cv:.2f}%, Algebra = {Alg_cv:.2f}%\")\n",
    "\n",
    "\n"
   ]
  },
  {
   "cell_type": "code",
   "execution_count": 14,
   "metadata": {},
   "outputs": [
    {
     "name": "stdout",
     "output_type": "stream",
     "text": [
      "Greater Absolute Dispersion: Statistics\n",
      "Greater Relative Dispersion: Algebra\n"
     ]
    }
   ],
   "source": [
    "if Stat_Abdisp > Alg_Abdisp:\n",
    "    greater_absolute = \"Statistics\"\n",
    "else:\n",
    "    greater_absolute = \"Algebra\"\n",
    "    \n",
    "if Stats_cv > Alg_cv:\n",
    "    greater_relative = \"Statistics\"\n",
    "else: \n",
    "    greater_relative = \"Algebra\"\n",
    "\n",
    "print(f\"Greater Absolute Dispersion: {greater_absolute}\")\n",
    "print(f\"Greater Relative Dispersion: {greater_relative}\")"
   ]
  },
  {
   "cell_type": "code",
   "execution_count": 15,
   "metadata": {},
   "outputs": [
    {
     "name": "stdout",
     "output_type": "stream",
     "text": [
      "Scores: [6, 2, 8, 7, 5]\n",
      "Mean of Scores: 5.6\n",
      "Standard Deviation of Scores: 2.0591260281974\n",
      "Z-scores: [ 0.19425717 -1.74831455  1.16554303  0.6799001  -0.29138576]\n",
      "Mean of Z-scores: 1.7763568394002506e-16\n",
      "Standard Deviation of Z-scores: 0.9999999999999999\n"
     ]
    }
   ],
   "source": [
    "import numpy as np\n",
    "\n",
    "scores = [6, 2, 8, 7, 5]\n",
    "\n",
    "df=pd.DataFrame(scores)\n",
    "\n",
    "mean = np.mean(df)\n",
    "sdv = np.std(scores)\n",
    "\n",
    "z = (scores - mean) / sdv\n",
    "\n",
    "mean_z = np.mean(z)\n",
    "sdv_z = np.std(z)\n",
    "\n",
    "print(f\"Scores: {scores}\")\n",
    "print(f\"Mean of Scores: {mean}\")\n",
    "print(f\"Standard Deviation of Scores: {sdv}\")\n",
    "print(f\"Z-scores: {z}\")\n",
    "print(f\"Mean of Z-scores: {mean_z}\")\n",
    "print(f\"Standard Deviation of Z-scores: {sdv_z}\")"
   ]
  },
  {
   "cell_type": "code",
   "execution_count": 33,
   "metadata": {},
   "outputs": [
    {
     "name": "stdout",
     "output_type": "stream",
     "text": [
      "Mean of the sum of masses: 39.5967 g\n",
      "Standard deviation of the sum of masses: 0.4033\n"
     ]
    }
   ],
   "source": [
    "import statistics\n",
    "\n",
    "masses = [20.48, 35.97, 62.34]\n",
    "sdv =[0.21, 0.46, 0.54]\n",
    "\n",
    "mean=sum(masses)/len(masses)\n",
    "mean_sdv=sum(sdv)/len(sdv)\n",
    "\n",
    "print(f\"Mean of the sum of masses: {mean:.4f} g\")\n",
    "print(f\"Standard deviation of the sum of masses: {mean_sdv:.4f}\")"
   ]
  },
  {
   "cell_type": "code",
   "execution_count": null,
   "metadata": {},
   "outputs": [],
   "source": []
  }
 ],
 "metadata": {
  "kernelspec": {
   "display_name": "Python 3 (ipykernel)",
   "language": "python",
   "name": "python3"
  },
  "language_info": {
   "codemirror_mode": {
    "name": "ipython",
    "version": 3
   },
   "file_extension": ".py",
   "mimetype": "text/x-python",
   "name": "python",
   "nbconvert_exporter": "python",
   "pygments_lexer": "ipython3",
   "version": "3.11.5"
  }
 },
 "nbformat": 4,
 "nbformat_minor": 4
}

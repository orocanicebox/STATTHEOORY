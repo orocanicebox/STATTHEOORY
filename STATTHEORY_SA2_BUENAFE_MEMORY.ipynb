{
 "cells": [
  {
   "cell_type": "markdown",
   "id": "547c3b9a",
   "metadata": {},
   "source": [
    "# SA 2 - Comparing Memory Day Errors on Drug Treatments and AD Status\n",
    "KARL ISAIAH BUENAFE "
   ]
  },
  {
   "cell_type": "code",
   "execution_count": 3,
   "id": "1a891bd7",
   "metadata": {},
   "outputs": [],
   "source": [
    "import numpy as np\n",
    "import scipy.stats as spt\n",
    "import pandas as pd\n",
    "import seaborn as sns\n",
    "import matplotlib.pyplot as plt\n",
    "import statsmodels.api as sm\n",
    "from statsmodels.formula.api import ols\n",
    "from statsmodels.stats.anova import AnovaRM"
   ]
  },
  {
   "cell_type": "code",
   "execution_count": 2,
   "id": "60ca2d8d",
   "metadata": {},
   "outputs": [
    {
     "data": {
      "text/html": [
       "<div>\n",
       "<style scoped>\n",
       "    .dataframe tbody tr th:only-of-type {\n",
       "        vertical-align: middle;\n",
       "    }\n",
       "\n",
       "    .dataframe tbody tr th {\n",
       "        vertical-align: top;\n",
       "    }\n",
       "\n",
       "    .dataframe thead th {\n",
       "        text-align: right;\n",
       "    }\n",
       "</style>\n",
       "<table border=\"1\" class=\"dataframe\">\n",
       "  <thead>\n",
       "    <tr style=\"text-align: right;\">\n",
       "      <th></th>\n",
       "      <th>AD_Status</th>\n",
       "      <th>Treatment</th>\n",
       "      <th>Training</th>\n",
       "      <th>Memory</th>\n",
       "    </tr>\n",
       "  </thead>\n",
       "  <tbody>\n",
       "    <tr>\n",
       "      <th>0</th>\n",
       "      <td>1</td>\n",
       "      <td>1</td>\n",
       "      <td>12</td>\n",
       "      <td>10</td>\n",
       "    </tr>\n",
       "    <tr>\n",
       "      <th>1</th>\n",
       "      <td>1</td>\n",
       "      <td>1</td>\n",
       "      <td>15</td>\n",
       "      <td>12</td>\n",
       "    </tr>\n",
       "    <tr>\n",
       "      <th>2</th>\n",
       "      <td>1</td>\n",
       "      <td>1</td>\n",
       "      <td>13</td>\n",
       "      <td>13</td>\n",
       "    </tr>\n",
       "    <tr>\n",
       "      <th>3</th>\n",
       "      <td>1</td>\n",
       "      <td>1</td>\n",
       "      <td>12</td>\n",
       "      <td>10</td>\n",
       "    </tr>\n",
       "    <tr>\n",
       "      <th>4</th>\n",
       "      <td>1</td>\n",
       "      <td>1</td>\n",
       "      <td>14</td>\n",
       "      <td>13</td>\n",
       "    </tr>\n",
       "    <tr>\n",
       "      <th>5</th>\n",
       "      <td>1</td>\n",
       "      <td>2</td>\n",
       "      <td>15</td>\n",
       "      <td>13</td>\n",
       "    </tr>\n",
       "    <tr>\n",
       "      <th>6</th>\n",
       "      <td>1</td>\n",
       "      <td>2</td>\n",
       "      <td>17</td>\n",
       "      <td>13</td>\n",
       "    </tr>\n",
       "    <tr>\n",
       "      <th>7</th>\n",
       "      <td>1</td>\n",
       "      <td>2</td>\n",
       "      <td>16</td>\n",
       "      <td>14</td>\n",
       "    </tr>\n",
       "    <tr>\n",
       "      <th>8</th>\n",
       "      <td>1</td>\n",
       "      <td>2</td>\n",
       "      <td>17</td>\n",
       "      <td>15</td>\n",
       "    </tr>\n",
       "    <tr>\n",
       "      <th>9</th>\n",
       "      <td>1</td>\n",
       "      <td>2</td>\n",
       "      <td>14</td>\n",
       "      <td>11</td>\n",
       "    </tr>\n",
       "  </tbody>\n",
       "</table>\n",
       "</div>"
      ],
      "text/plain": [
       "   AD_Status  Treatment  Training  Memory\n",
       "0          1          1        12      10\n",
       "1          1          1        15      12\n",
       "2          1          1        13      13\n",
       "3          1          1        12      10\n",
       "4          1          1        14      13\n",
       "5          1          2        15      13\n",
       "6          1          2        17      13\n",
       "7          1          2        16      14\n",
       "8          1          2        17      15\n",
       "9          1          2        14      11"
      ]
     },
     "execution_count": 2,
     "metadata": {},
     "output_type": "execute_result"
    }
   ],
   "source": [
    "df= pd.read_csv('Alzheimers Mice Data.csv')\n",
    "df.head(10)"
   ]
  },
  {
   "cell_type": "markdown",
   "id": "e1594d5a",
   "metadata": {},
   "source": [
    "### ASSUMPTIONS\n",
    "\n",
    "Assumption 1. The dependent variable is measured at the continuous level.\n",
    "\n",
    "Assumption 2. The two independent variables (AD Status and Treatment) consists of two or more categorical independent groups. The AD Status is the dichotomous variable, whereas the Treatment is the polytomous variable. \n",
    "\n",
    "Assumption 3. The independence of observations among each group of the independent variable or between the group themselves is observed. \n",
    "\n",
    "Assumption 4. There should be no significant outliers.\n",
    "\n",
    "Assumption 5. The  dependent variable should be normally distributed.\n",
    "\n",
    "Assumption 6. The variance of the dependent variable should be equal."
   ]
  },
  {
   "cell_type": "markdown",
   "id": "ede15ca2",
   "metadata": {},
   "source": [
    "## INTRODUCTION\n",
    "This report examines the effect Alzheimer's Disease(AD) and or Medical treat to training errors. Errors were measure as th enumber of errors committed during training.\n",
    "\n",
    "### Independent Variables:\n",
    "\n",
    "#### AD Status: Categorized using 1 and 2. \n",
    "    1: The mice has AD\n",
    "    2: The mice does not have AD\n",
    "#### Treatment: categorized into 4 groups (i.e. 1, 2, 3, and 4 )"
   ]
  },
  {
   "cell_type": "markdown",
   "id": "e1c66e42",
   "metadata": {},
   "source": [
    "#### Main Effect of AD Status\n",
    "\n",
    "NULL HYPOTHESIS  $(H_0)$ : There's no significant difference on the memory day error of those with AD than those without.\n",
    "\n",
    "ALTERNATIVE HYPOTHESIS  $(H_1)$ : There is a significant difference on the memory day error of those with AD than those without.\n",
    "\n",
    "#### Main Effect of Treatment\n",
    "NULL HYPOTHESIS  $(H_0)$ : There's no significant difference on the memory day error among the treatments.\n",
    "\n",
    "ALTERNATIVE HYPOTHESIS  $(H_1)$ : There is a significant difference on the memory day error among the treatments.\n",
    "\n",
    "\n",
    "#### Interaction between AD Status and Treatment\n",
    "NULL HYPOTHESIS  $(H_0)$ : There is no significant interaction between AD Status and Treatment on memory day score.\n",
    "\n",
    "ALTERNATIVE HYPOTHESIS  $(H_1)$ : There's a significant interaction between AD Status and Treatment on memory day score."
   ]
  },
  {
   "cell_type": "markdown",
   "id": "a235468c",
   "metadata": {},
   "source": [
    "### DESCRIPTIVE ANALYSIS "
   ]
  },
  {
   "cell_type": "code",
   "execution_count": 12,
   "id": "108c18ff",
   "metadata": {},
   "outputs": [
    {
     "data": {
      "text/plain": [
       "count    40.0000\n",
       "mean      9.9250\n",
       "std       2.7399\n",
       "min       4.0000\n",
       "25%       8.0000\n",
       "50%      10.0000\n",
       "75%      12.0000\n",
       "max      15.0000\n",
       "Name: Memory, dtype: float64"
      ]
     },
     "execution_count": 12,
     "metadata": {},
     "output_type": "execute_result"
    }
   ],
   "source": [
    "df['Memory'].describe()"
   ]
  },
  {
   "cell_type": "markdown",
   "id": "117c9902",
   "metadata": {},
   "source": [
    "Remark: The dataset has 2 independent variables. One has two groups while the other has 4. And based on the table above, we can see that the dependent variable is continous. Therefore, \n",
    "##### Assumption 1 and Assumption 2 was met."
   ]
  },
  {
   "cell_type": "code",
   "execution_count": 18,
   "id": "326a5936",
   "metadata": {},
   "outputs": [],
   "source": [
    "tr1 = df[df['Treatment']== 1]\n",
    "tr2 = df[df['Treatment']== 2]\n",
    "tr3 = df[df['Treatment']== 3]\n",
    "tr4 = df[df['Treatment']== 4]\n",
    "ad1 = df[df['AD_Status']== 1]\n",
    "ad2 = df[df['AD_Status']== 2]\n"
   ]
  },
  {
   "cell_type": "code",
   "execution_count": 19,
   "id": "2ddfc22e",
   "metadata": {},
   "outputs": [
    {
     "data": {
      "text/html": [
       "<div>\n",
       "<style scoped>\n",
       "    .dataframe tbody tr th:only-of-type {\n",
       "        vertical-align: middle;\n",
       "    }\n",
       "\n",
       "    .dataframe tbody tr th {\n",
       "        vertical-align: top;\n",
       "    }\n",
       "\n",
       "    .dataframe thead th {\n",
       "        text-align: right;\n",
       "    }\n",
       "</style>\n",
       "<table border=\"1\" class=\"dataframe\">\n",
       "  <thead>\n",
       "    <tr style=\"text-align: right;\">\n",
       "      <th></th>\n",
       "      <th>AD_Status</th>\n",
       "      <th>Treatment</th>\n",
       "      <th>mean_memory</th>\n",
       "    </tr>\n",
       "  </thead>\n",
       "  <tbody>\n",
       "    <tr>\n",
       "      <th>0</th>\n",
       "      <td>1</td>\n",
       "      <td>1</td>\n",
       "      <td>11.6</td>\n",
       "    </tr>\n",
       "    <tr>\n",
       "      <th>1</th>\n",
       "      <td>1</td>\n",
       "      <td>2</td>\n",
       "      <td>13.2</td>\n",
       "    </tr>\n",
       "    <tr>\n",
       "      <th>2</th>\n",
       "      <td>1</td>\n",
       "      <td>3</td>\n",
       "      <td>12.4</td>\n",
       "    </tr>\n",
       "    <tr>\n",
       "      <th>3</th>\n",
       "      <td>1</td>\n",
       "      <td>4</td>\n",
       "      <td>11.2</td>\n",
       "    </tr>\n",
       "    <tr>\n",
       "      <th>4</th>\n",
       "      <td>2</td>\n",
       "      <td>1</td>\n",
       "      <td>8.6</td>\n",
       "    </tr>\n",
       "    <tr>\n",
       "      <th>5</th>\n",
       "      <td>2</td>\n",
       "      <td>2</td>\n",
       "      <td>7.6</td>\n",
       "    </tr>\n",
       "    <tr>\n",
       "      <th>6</th>\n",
       "      <td>2</td>\n",
       "      <td>3</td>\n",
       "      <td>8.2</td>\n",
       "    </tr>\n",
       "    <tr>\n",
       "      <th>7</th>\n",
       "      <td>2</td>\n",
       "      <td>4</td>\n",
       "      <td>6.6</td>\n",
       "    </tr>\n",
       "  </tbody>\n",
       "</table>\n",
       "</div>"
      ],
      "text/plain": [
       "   AD_Status  Treatment  mean_memory\n",
       "0          1          1         11.6\n",
       "1          1          2         13.2\n",
       "2          1          3         12.4\n",
       "3          1          4         11.2\n",
       "4          2          1          8.6\n",
       "5          2          2          7.6\n",
       "6          2          3          8.2\n",
       "7          2          4          6.6"
      ]
     },
     "execution_count": 19,
     "metadata": {},
     "output_type": "execute_result"
    }
   ],
   "source": [
    "result = df.groupby(['AD_Status', 'Treatment']).agg(mean_memory=('Memory', 'mean')).reset_index()\n",
    "\n",
    "result.head(10)"
   ]
  },
  {
   "cell_type": "markdown",
   "id": "4dd78834",
   "metadata": {},
   "source": [
    "Remark: Based on the table we can see that each category of the independependent variables are observed within each other. Therefore,\n",
    "##### Assumption 3 was met."
   ]
  },
  {
   "cell_type": "code",
   "execution_count": 24,
   "id": "2c404a3f",
   "metadata": {},
   "outputs": [
    {
     "data": {
      "image/png": "[encoded data removed]",
      "text/plain": [
       "<Figure size 1200x1000 with 1 Axes>"
      ]
     },
     "metadata": {},
     "output_type": "display_data"
    }
   ],
   "source": [
    "\n",
    "palette=[\"#276733\",'#F28BAB', '#F2CA22']\n",
    "plt.figure(figsize=(12, 10))\n",
    "sns.boxplot(\n",
    "    data=df,\n",
    "    x='AD_Status',\n",
    "    y='Memory',\n",
    "    hue='Treatment',  \n",
    "    palette=sns.set_palette(palette))\n",
    "\n",
    "\n",
    "plt.title(\"Boxplot of Memory Errors by AD Status and Treatment\", fontsize=14)\n",
    "plt.xlabel(\"AD Status\", fontsize=12)\n",
    "plt.ylabel(\"Memory Errors\", fontsize=12)\n",
    "plt.grid(axis='y')\n",
    "\n",
    "plt.show()"
   ]
  },
  {
   "cell_type": "code",
   "execution_count": 25,
   "id": "2c79d7ab",
   "metadata": {},
   "outputs": [
    {
     "data": {
      "image/png": "[encoded data removed]",
      "text/plain": [
       "<Figure size 1200x1000 with 1 Axes>"
      ]
     },
     "metadata": {},
     "output_type": "display_data"
    }
   ],
   "source": [
    "def remove_outliers(df):\n",
    "    filtered_columns = {}\n",
    "    for col in df.columns:\n",
    "        Q1 = df[col].quantile(0.25)\n",
    "        Q3 = df[col].quantile(0.75)\n",
    "        IQR = Q3 - Q1\n",
    "        lower_bound = Q1 - 1.5 * IQR\n",
    "        upper_bound = Q3 + 1.5 * IQR\n",
    "       \n",
    "        filtered_columns[col] = df[col][(df[col] >= lower_bound) & (df[col] <= upper_bound)]\n",
    "\n",
    "    return pd.DataFrame(filtered_columns)\n",
    "\n",
    "filtered_data = remove_outliers(df)\n",
    "\n",
    "palette=[\"#276733\",'#F28BAB', '#F2CA22']\n",
    "plt.figure(figsize=(12, 10))\n",
    "sns.boxplot(\n",
    "    data=filtered_data,\n",
    "    x='AD_Status',\n",
    "    y='Memory',\n",
    "    hue='Treatment',  \n",
    "    palette=sns.set_palette(palette))\n",
    "\n",
    "\n",
    "plt.title(\"Boxplot of Memory Errors by AD Status and Treatment\", fontsize=14)\n",
    "plt.xlabel(\"AD Status\", fontsize=12)\n",
    "plt.ylabel(\"Memory Errors\", fontsize=12)\n",
    "plt.grid(axis='y')\n",
    "\n",
    "plt.show()\n"
   ]
  },
  {
   "cell_type": "markdown",
   "id": "cf96e4f9",
   "metadata": {},
   "source": [
    "based on the initial box plot, we can see that there's an outlier, but upon utilizing IQR to eliminate the outliers, and creating another plot, it implies that this outlier is not significant. Therefore, \n",
    "<strong>Assumption 4 was met.</strong>\n"
   ]
  },
  {
   "cell_type": "markdown",
   "id": "1a282277",
   "metadata": {},
   "source": [
    " "
   ]
  },
  {
   "cell_type": "code",
   "execution_count": 26,
   "id": "dddd25d1",
   "metadata": {},
   "outputs": [
    {
     "data": {
      "image/png": "[encoded data removed]",
      "text/plain": [
       "<Figure size 640x480 with 1 Axes>"
      ]
     },
     "metadata": {},
     "output_type": "display_data"
    }
   ],
   "source": [
    "sns.histplot(df['Memory'], kde=True)\n",
    "plt.title(\"Histogram of Memory\")\n",
    "plt.xlabel(\"Memory\")\n",
    "plt.ylabel(\"Frequency\")\n",
    "plt.show()"
   ]
  },
  {
   "cell_type": "markdown",
   "id": "21cdf05e",
   "metadata": {},
   "source": [
    "Remark: The result of this histogram shows how the Memory error is approximately distributed normally. So, <strong>Assumption 5 was achieved but with caution.</strong>"
   ]
  },
  {
   "cell_type": "code",
   "execution_count": 29,
   "id": "cdd13620",
   "metadata": {},
   "outputs": [
    {
     "name": "stdout",
     "output_type": "stream",
     "text": [
      "Levene Test Statistic: 0.827, p-value: 0.572\n"
     ]
    }
   ],
   "source": [
    "grouped = df.groupby(['AD_Status', 'Treatment'])['Memory']\n",
    "\n",
    "groups = [group for _, group in grouped]\n",
    "\n",
    "\n",
    "stat, p = spt.levene(*groups)\n",
    "\n",
    "print(f\"Levene Test Statistic: {stat:.3f}, p-value: {p:.3f}\")"
   ]
  },
  {
   "cell_type": "markdown",
   "id": "feca9f21",
   "metadata": {},
   "source": [
    "Remark: With the p-value greater than 0.05, it implies that variance are evenly distributed. Therefore,  <strong> Assumption 6 was met.</strong>"
   ]
  },
  {
   "cell_type": "markdown",
   "id": "1b82d9d3",
   "metadata": {},
   "source": [
    "### INFERENTIAL ANALYSIS"
   ]
  },
  {
   "cell_type": "markdown",
   "id": "240254b4",
   "metadata": {},
   "source": [
    "### Two-way ANOVA:"
   ]
  },
  {
   "cell_type": "code",
   "execution_count": 32,
   "id": "fb8e26b4",
   "metadata": {},
   "outputs": [
    {
     "name": "stdout",
     "output_type": "stream",
     "text": [
      "                            sum_sq    df          F        PR(>F)\n",
      "C(AD_Status)               189.225   1.0  75.313433  6.449421e-10\n",
      "C(Treatment)                14.475   3.0   1.920398  1.461176e-01\n",
      "C(AD_Status):C(Treatment)    8.675   3.0   1.150912  3.436263e-01\n",
      "Residual                    80.400  32.0        NaN           NaN\n"
     ]
    }
   ],
   "source": [
    "model = ols('Memory ~ C(AD_Status) + C(Treatment) + C(AD_Status):C(Treatment)', data=df).fit()\n",
    "anova_table = sm.stats.anova_lm(model, typ=2) \n",
    "print(anova_table)"
   ]
  },
  {
   "cell_type": "markdown",
   "id": "da850d9f",
   "metadata": {},
   "source": [
    "## DISCUSSION"
   ]
  },
  {
   "cell_type": "markdown",
   "id": "bc5cc2e4",
   "metadata": {},
   "source": [
    "Based on the results of the two-way ANOVA, we interpreted the following:\n",
    "1. The AD status has a significant effect on the memory error.\n",
    "2. The Treatment does not have a significant effect on the memory error.\n",
    "3. The interaction of the 2 independent variables does not have a significant effect on the dependent variable."
   ]
  },
  {
   "cell_type": "markdown",
   "id": "52183729",
   "metadata": {},
   "source": [
    "## CONCLUSION"
   ]
  },
  {
   "cell_type": "markdown",
   "id": "60e8a06a",
   "metadata": {},
   "source": [
    "After conducting this statistical analysis, we can conclude the following:\n",
    "\n",
    "There is a significant difference on the memory day error of those with AD than those without. Therefore, <strong>we must reject the null hypothesis $(H_0)$.</strong>\n",
    "\n",
    "  \n",
    "There is no significant difference on the memory day error among the 4 treatment groups. Therefore, <strong>we must accept the null hypothesis $(H_0)$.</strong>\n",
    "\n",
    "  \n",
    "\n",
    "There is no significant interaction between the two independent variables on the memory day error. Therefore, <strong>we must accept the null hypothesis $(H_0)$.</strong>\n"
   ]
  },
  {
   "cell_type": "markdown",
   "id": "f35dc7a2",
   "metadata": {},
   "source": [
    " "
   ]
  }
 ],
 "metadata": {
  "kernelspec": {
   "display_name": "Python 3 (ipykernel)",
   "language": "python",
   "name": "python3"
  },
  "language_info": {
   "codemirror_mode": {
    "name": "ipython",
    "version": 3
   },
   "file_extension": ".py",
   "mimetype": "text/x-python",
   "name": "python",
   "nbconvert_exporter": "python",
   "pygments_lexer": "ipython3",
   "version": "3.11.5"
  }
 },
 "nbformat": 4,
 "nbformat_minor": 5
}

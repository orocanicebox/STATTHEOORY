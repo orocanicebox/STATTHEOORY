{
 "cells": [
  {
   "cell_type": "markdown",
   "id": "547c3b9a",
   "metadata": {},
   "source": [
    "# SA1_BUENAFE"
   ]
  },
  {
   "cell_type": "code",
   "execution_count": 101,
   "id": "1a891bd7",
   "metadata": {},
   "outputs": [],
   "source": [
    "import numpy as np\n",
    "import scipy.stats as spt\n",
    "import pandas as pd\n",
    "import matplotlib.pyplot as plt"
   ]
  },
  {
   "cell_type": "code",
   "execution_count": 49,
   "id": "60ca2d8d",
   "metadata": {},
   "outputs": [
    {
     "data": {
      "text/html": [
       "<div>\n",
       "<style scoped>\n",
       "    .dataframe tbody tr th:only-of-type {\n",
       "        vertical-align: middle;\n",
       "    }\n",
       "\n",
       "    .dataframe tbody tr th {\n",
       "        vertical-align: top;\n",
       "    }\n",
       "\n",
       "    .dataframe thead th {\n",
       "        text-align: right;\n",
       "    }\n",
       "</style>\n",
       "<table border=\"1\" class=\"dataframe\">\n",
       "  <thead>\n",
       "    <tr style=\"text-align: right;\">\n",
       "      <th></th>\n",
       "      <th>Males</th>\n",
       "      <th>Females</th>\n",
       "    </tr>\n",
       "  </thead>\n",
       "  <tbody>\n",
       "    <tr>\n",
       "      <th>0</th>\n",
       "      <td>12</td>\n",
       "      <td>11</td>\n",
       "    </tr>\n",
       "    <tr>\n",
       "      <th>1</th>\n",
       "      <td>7</td>\n",
       "      <td>10</td>\n",
       "    </tr>\n",
       "    <tr>\n",
       "      <th>2</th>\n",
       "      <td>7</td>\n",
       "      <td>11</td>\n",
       "    </tr>\n",
       "    <tr>\n",
       "      <th>3</th>\n",
       "      <td>10</td>\n",
       "      <td>10</td>\n",
       "    </tr>\n",
       "    <tr>\n",
       "      <th>4</th>\n",
       "      <td>8</td>\n",
       "      <td>11</td>\n",
       "    </tr>\n",
       "    <tr>\n",
       "      <th>5</th>\n",
       "      <td>10</td>\n",
       "      <td>12</td>\n",
       "    </tr>\n",
       "    <tr>\n",
       "      <th>6</th>\n",
       "      <td>11</td>\n",
       "      <td>12</td>\n",
       "    </tr>\n",
       "    <tr>\n",
       "      <th>7</th>\n",
       "      <td>9</td>\n",
       "      <td>10</td>\n",
       "    </tr>\n",
       "    <tr>\n",
       "      <th>8</th>\n",
       "      <td>9</td>\n",
       "      <td>9</td>\n",
       "    </tr>\n",
       "    <tr>\n",
       "      <th>9</th>\n",
       "      <td>13</td>\n",
       "      <td>9</td>\n",
       "    </tr>\n",
       "  </tbody>\n",
       "</table>\n",
       "</div>"
      ],
      "text/plain": [
       "   Males  Females\n",
       "0     12       11\n",
       "1      7       10\n",
       "2      7       11\n",
       "3     10       10\n",
       "4      8       11\n",
       "5     10       12\n",
       "6     11       12\n",
       "7      9       10\n",
       "8      9        9\n",
       "9     13        9"
      ]
     },
     "execution_count": 49,
     "metadata": {},
     "output_type": "execute_result"
    }
   ],
   "source": [
    "DF= pd.read_csv('SA1_DF.csv')\n",
    "DF.head(10)"
   ]
  },
  {
   "cell_type": "markdown",
   "id": "3374ced8",
   "metadata": {},
   "source": [
    "### 1. Formulate and present the rationale for a hypothesis test that the researcher could use to compare the mean time spent on cell phones by male and female college students per week."
   ]
  },
  {
   "cell_type": "markdown",
   "id": "e1c66e42",
   "metadata": {},
   "source": [
    "#### NULL HYPOTHESIS  $(H_0)$ : The mean hours spent talking on cell phone by the male students at Midwestern University is equal to the mean hours of the female students.\n",
    "\n",
    "This is written as: $H_0: \\mu_1 = \\mu_2$\n",
    "\n",
    "#### ALTERNATIVE HYPOTHESIS  $(H_1)$ : The mean hours of the male students is not equal to the mean hours of the female students.\n",
    "\n",
    "This is written as: $H_1: \\mu_1 \\neq \\mu_2$\n",
    "\n",
    "#### Rationale: Using two-tailed independent samples t-test and Shapiro-Wilk test, we need to determine whether there is a significant difference between the average hours spent by male and female students when talking on their cell phone"
   ]
  },
  {
   "cell_type": "markdown",
   "id": "a8964392",
   "metadata": {},
   "source": [
    " "
   ]
  },
  {
   "cell_type": "markdown",
   "id": "d4a61e67",
   "metadata": {},
   "source": [
    "### 2. Analyze the data to provide the hypothesis testing conclusion. What is the p-value for your test? What is your recommendation for the researcher?"
   ]
  },
  {
   "cell_type": "markdown",
   "id": "a58f11c8",
   "metadata": {},
   "source": [
    "### Computing for the p-value:"
   ]
  },
  {
   "cell_type": "code",
   "execution_count": 98,
   "id": "484d97ae",
   "metadata": {},
   "outputs": [
    {
     "name": "stdout",
     "output_type": "stream",
     "text": [
      "t-score: [0.30394908]\n",
      "P-value: [0.7618111]\n"
     ]
    }
   ],
   "source": [
    "t_stat, pvalue = spt.ttest_ind(DF[['Males']],DF[['Females']])\n",
    "\n",
    "print(f't-score: {t_stat}')\n",
    "print(f'P-value: {pvalue}')"
   ]
  },
  {
   "cell_type": "markdown",
   "id": "362f2af9",
   "metadata": {},
   "source": [
    "#### With the p-value being greater than 0.05, this suggests that there's no difference between the mean hours of the male and female students. Therefore, we must accept the null hypothesis which is the mean hours of the male and female students are equal  ( $\\mu_1 = \\mu_2$)"
   ]
  },
  {
   "cell_type": "code",
   "execution_count": 115,
   "id": "d177cb09",
   "metadata": {},
   "outputs": [
    {
     "data": {
      "image/png": "[encoded data removed]",
      "text/plain": [
       "<Figure size 400x800 with 1 Axes>"
      ]
     },
     "metadata": {},
     "output_type": "display_data"
    }
   ],
   "source": [
    "import matplotlib.pyplot as plt\n",
    "\n",
    "# Assuming DF is your dataframe\n",
    "\n",
    "data = [DF[['Males']].values.flatten(), DF[['Females']].values.flatten()]  # Flatten the data for boxplot\n",
    "labels = ['Male Students', 'Female Students']\n",
    "\n",
    "plt.figure(figsize=(4,8))\n",
    "box= plt.boxplot(data, labels=labels, patch_artist=True)\n",
    "\n",
    "colors = ['lightgreen', 'lightpink']\n",
    "for patch, color in zip(box['boxes'], colors):\n",
    "    patch.set_facecolor(color)\n",
    "\n",
    "plt.title('Hours student spent on their cell phone by gender')\n",
    "plt.ylabel('Hours spent weekly')\n",
    "plt.grid(axis='y')\n",
    "\n",
    "# Show plot\n",
    "plt.show()\n"
   ]
  },
  {
   "cell_type": "markdown",
   "id": "ca40a345",
   "metadata": {},
   "source": [
    " "
   ]
  },
  {
   "cell_type": "markdown",
   "id": "426d4a69",
   "metadata": {},
   "source": [
    "### 3. Provide descriptive statistical summaries of the data for each gender category."
   ]
  },
  {
   "cell_type": "code",
   "execution_count": 91,
   "id": "0e538fa6",
   "metadata": {},
   "outputs": [],
   "source": [
    "N=len(female_df)"
   ]
  },
  {
   "cell_type": "markdown",
   "id": "52183729",
   "metadata": {},
   "source": [
    "### Male students Descriptive Statistical summary:"
   ]
  },
  {
   "cell_type": "code",
   "execution_count": 92,
   "id": "30e0ffe2",
   "metadata": {},
   "outputs": [
    {
     "data": {
      "text/html": [
       "<div>\n",
       "<style scoped>\n",
       "    .dataframe tbody tr th:only-of-type {\n",
       "        vertical-align: middle;\n",
       "    }\n",
       "\n",
       "    .dataframe tbody tr th {\n",
       "        vertical-align: top;\n",
       "    }\n",
       "\n",
       "    .dataframe thead th {\n",
       "        text-align: right;\n",
       "    }\n",
       "</style>\n",
       "<table border=\"1\" class=\"dataframe\">\n",
       "  <thead>\n",
       "    <tr style=\"text-align: right;\">\n",
       "      <th></th>\n",
       "      <th>Males</th>\n",
       "    </tr>\n",
       "  </thead>\n",
       "  <tbody>\n",
       "    <tr>\n",
       "      <th>count</th>\n",
       "      <td>50.000000</td>\n",
       "    </tr>\n",
       "    <tr>\n",
       "      <th>mean</th>\n",
       "      <td>9.820000</td>\n",
       "    </tr>\n",
       "    <tr>\n",
       "      <th>std</th>\n",
       "      <td>2.154161</td>\n",
       "    </tr>\n",
       "    <tr>\n",
       "      <th>min</th>\n",
       "      <td>4.000000</td>\n",
       "    </tr>\n",
       "    <tr>\n",
       "      <th>25%</th>\n",
       "      <td>9.000000</td>\n",
       "    </tr>\n",
       "  </tbody>\n",
       "</table>\n",
       "</div>"
      ],
      "text/plain": [
       "           Males\n",
       "count  50.000000\n",
       "mean    9.820000\n",
       "std     2.154161\n",
       "min     4.000000\n",
       "25%     9.000000"
      ]
     },
     "execution_count": 92,
     "metadata": {},
     "output_type": "execute_result"
    }
   ],
   "source": [
    "mstats=DF[['Males']].describe()\n",
    "mstats.head()"
   ]
  },
  {
   "cell_type": "code",
   "execution_count": 93,
   "id": "d6b882c3",
   "metadata": {},
   "outputs": [],
   "source": [
    "mstats=mstats.drop(['mean',\"max\",\"min\",\"25%\",\"50%\",\"75%\", \"std\"])"
   ]
  },
  {
   "cell_type": "code",
   "execution_count": 94,
   "id": "79c7aed0",
   "metadata": {},
   "outputs": [
    {
     "data": {
      "text/html": [
       "<div>\n",
       "<style scoped>\n",
       "    .dataframe tbody tr th:only-of-type {\n",
       "        vertical-align: middle;\n",
       "    }\n",
       "\n",
       "    .dataframe tbody tr th {\n",
       "        vertical-align: top;\n",
       "    }\n",
       "\n",
       "    .dataframe thead th {\n",
       "        text-align: right;\n",
       "    }\n",
       "</style>\n",
       "<table border=\"1\" class=\"dataframe\">\n",
       "  <thead>\n",
       "    <tr style=\"text-align: right;\">\n",
       "      <th></th>\n",
       "      <th>Value</th>\n",
       "    </tr>\n",
       "  </thead>\n",
       "  <tbody>\n",
       "    <tr>\n",
       "      <th>count</th>\n",
       "      <td>50.000000</td>\n",
       "    </tr>\n",
       "    <tr>\n",
       "      <th>Mean</th>\n",
       "      <td>9.820000</td>\n",
       "    </tr>\n",
       "    <tr>\n",
       "      <th>Mode</th>\n",
       "      <td>9.000000</td>\n",
       "    </tr>\n",
       "    <tr>\n",
       "      <th>Median</th>\n",
       "      <td>10.000000</td>\n",
       "    </tr>\n",
       "    <tr>\n",
       "      <th>Std. Deviation</th>\n",
       "      <td>2.154161</td>\n",
       "    </tr>\n",
       "    <tr>\n",
       "      <th>Variance</th>\n",
       "      <td>4.640408</td>\n",
       "    </tr>\n",
       "    <tr>\n",
       "      <th>Skewness</th>\n",
       "      <td>-0.114676</td>\n",
       "    </tr>\n",
       "    <tr>\n",
       "      <th>SE of Skewness</th>\n",
       "      <td>0.346410</td>\n",
       "    </tr>\n",
       "    <tr>\n",
       "      <th>Kurtosis</th>\n",
       "      <td>0.177262</td>\n",
       "    </tr>\n",
       "    <tr>\n",
       "      <th>SE of Kurtosis</th>\n",
       "      <td>0.692820</td>\n",
       "    </tr>\n",
       "    <tr>\n",
       "      <th>Minimum</th>\n",
       "      <td>4.000000</td>\n",
       "    </tr>\n",
       "    <tr>\n",
       "      <th>Maximum</th>\n",
       "      <td>4.000000</td>\n",
       "    </tr>\n",
       "    <tr>\n",
       "      <th>25% percentile</th>\n",
       "      <td>9.000000</td>\n",
       "    </tr>\n",
       "    <tr>\n",
       "      <th>50% percentile</th>\n",
       "      <td>10.000000</td>\n",
       "    </tr>\n",
       "    <tr>\n",
       "      <th>75% percentile</th>\n",
       "      <td>11.000000</td>\n",
       "    </tr>\n",
       "    <tr>\n",
       "      <th>90% percentile</th>\n",
       "      <td>13.000000</td>\n",
       "    </tr>\n",
       "    <tr>\n",
       "      <th>95% percentile</th>\n",
       "      <td>13.000000</td>\n",
       "    </tr>\n",
       "  </tbody>\n",
       "</table>\n",
       "</div>"
      ],
      "text/plain": [
       "                    Value\n",
       "count           50.000000\n",
       "Mean             9.820000\n",
       "Mode             9.000000\n",
       "Median          10.000000\n",
       "Std. Deviation   2.154161\n",
       "Variance         4.640408\n",
       "Skewness        -0.114676\n",
       "SE of Skewness   0.346410\n",
       "Kurtosis         0.177262\n",
       "SE of Kurtosis   0.692820\n",
       "Minimum          4.000000\n",
       "Maximum          4.000000\n",
       "25% percentile   9.000000\n",
       "50% percentile  10.000000\n",
       "75% percentile  11.000000\n",
       "90% percentile  13.000000\n",
       "95% percentile  13.000000"
      ]
     },
     "execution_count": 94,
     "metadata": {},
     "output_type": "execute_result"
    }
   ],
   "source": [
    "mstats.loc[\"Mean\"]=DF[['Males']].mean().iloc[0]\n",
    "mstats.loc[\"Mode\"]=DF[['Males']].mode().iloc[0]\n",
    "mstats.loc[\"Median\"]=DF[['Males']].median()\n",
    "mstats.loc[\"Std. Deviation\"]=DF[['Males']].std()\n",
    "mstats.loc[\"Variance\"]=DF[['Males']].var()\n",
    "mstats.loc[\"Skewness\"]=DF[['Males']].skew()\n",
    "mstats.loc[\"SE of Skewness\"]=np.sqrt(6/N)\n",
    "mstats.loc[\"Kurtosis\"]=male_df.kurtosis()\n",
    "mstats.loc[\"SE of Kurtosis\"]=np.sqrt(24/N)\n",
    "mstats.loc[\"Minimum\"]=DF[['Males']].min()\n",
    "mstats.loc[\"Maximum\"]=DF[['Males']].min()\n",
    "mstats.loc[\"25% percentile\"]=np.percentile(DF[['Males']], 25)\n",
    "mstats.loc[\"50% percentile\"]=np.percentile(DF[['Males']], 50)\n",
    "mstats.loc[\"75% percentile\"]=np.percentile(DF[['Males']], 75)\n",
    "mstats.loc[\"90% percentile\"]=np.percentile(DF[['Males']], 90)\n",
    "mstats.loc[\"95% percentile\"]=np.percentile(DF[['Males']], 95)\n",
    "\n",
    "mstats=mstats.rename(columns={\"Males\": \"Value\", \"mean\":\"Mean\"})\n",
    "mstats"
   ]
  },
  {
   "cell_type": "markdown",
   "id": "d988ce7a",
   "metadata": {},
   "source": [
    "### Female students descriptive statistical summary:"
   ]
  },
  {
   "cell_type": "code",
   "execution_count": 95,
   "id": "f4594b8a",
   "metadata": {},
   "outputs": [
    {
     "data": {
      "text/html": [
       "<div>\n",
       "<style scoped>\n",
       "    .dataframe tbody tr th:only-of-type {\n",
       "        vertical-align: middle;\n",
       "    }\n",
       "\n",
       "    .dataframe tbody tr th {\n",
       "        vertical-align: top;\n",
       "    }\n",
       "\n",
       "    .dataframe thead th {\n",
       "        text-align: right;\n",
       "    }\n",
       "</style>\n",
       "<table border=\"1\" class=\"dataframe\">\n",
       "  <thead>\n",
       "    <tr style=\"text-align: right;\">\n",
       "      <th></th>\n",
       "      <th>Females</th>\n",
       "    </tr>\n",
       "  </thead>\n",
       "  <tbody>\n",
       "    <tr>\n",
       "      <th>count</th>\n",
       "      <td>50.000000</td>\n",
       "    </tr>\n",
       "    <tr>\n",
       "      <th>mean</th>\n",
       "      <td>9.700000</td>\n",
       "    </tr>\n",
       "    <tr>\n",
       "      <th>std</th>\n",
       "      <td>1.775686</td>\n",
       "    </tr>\n",
       "    <tr>\n",
       "      <th>min</th>\n",
       "      <td>6.000000</td>\n",
       "    </tr>\n",
       "    <tr>\n",
       "      <th>25%</th>\n",
       "      <td>9.000000</td>\n",
       "    </tr>\n",
       "  </tbody>\n",
       "</table>\n",
       "</div>"
      ],
      "text/plain": [
       "         Females\n",
       "count  50.000000\n",
       "mean    9.700000\n",
       "std     1.775686\n",
       "min     6.000000\n",
       "25%     9.000000"
      ]
     },
     "execution_count": 95,
     "metadata": {},
     "output_type": "execute_result"
    }
   ],
   "source": [
    "fstats=DF[['Females']].describe()\n",
    "fstats.head()"
   ]
  },
  {
   "cell_type": "code",
   "execution_count": 96,
   "id": "00737c5b",
   "metadata": {},
   "outputs": [],
   "source": [
    "fstats=fstats.drop(['mean',\"max\",\"min\",\"25%\",\"50%\",\"75%\", \"std\"])"
   ]
  },
  {
   "cell_type": "code",
   "execution_count": 97,
   "id": "0cafabee",
   "metadata": {},
   "outputs": [
    {
     "data": {
      "text/html": [
       "<div>\n",
       "<style scoped>\n",
       "    .dataframe tbody tr th:only-of-type {\n",
       "        vertical-align: middle;\n",
       "    }\n",
       "\n",
       "    .dataframe tbody tr th {\n",
       "        vertical-align: top;\n",
       "    }\n",
       "\n",
       "    .dataframe thead th {\n",
       "        text-align: right;\n",
       "    }\n",
       "</style>\n",
       "<table border=\"1\" class=\"dataframe\">\n",
       "  <thead>\n",
       "    <tr style=\"text-align: right;\">\n",
       "      <th></th>\n",
       "      <th>Value</th>\n",
       "    </tr>\n",
       "  </thead>\n",
       "  <tbody>\n",
       "    <tr>\n",
       "      <th>count</th>\n",
       "      <td>50.000000</td>\n",
       "    </tr>\n",
       "    <tr>\n",
       "      <th>Mean</th>\n",
       "      <td>9.700000</td>\n",
       "    </tr>\n",
       "    <tr>\n",
       "      <th>Mode</th>\n",
       "      <td>9.000000</td>\n",
       "    </tr>\n",
       "    <tr>\n",
       "      <th>Median</th>\n",
       "      <td>9.500000</td>\n",
       "    </tr>\n",
       "    <tr>\n",
       "      <th>Std. Deviation</th>\n",
       "      <td>1.775686</td>\n",
       "    </tr>\n",
       "    <tr>\n",
       "      <th>Variance</th>\n",
       "      <td>3.153061</td>\n",
       "    </tr>\n",
       "    <tr>\n",
       "      <th>Skewness</th>\n",
       "      <td>0.134412</td>\n",
       "    </tr>\n",
       "    <tr>\n",
       "      <th>SE of Skewness</th>\n",
       "      <td>0.346410</td>\n",
       "    </tr>\n",
       "    <tr>\n",
       "      <th>Kurtosis</th>\n",
       "      <td>0.177262</td>\n",
       "    </tr>\n",
       "    <tr>\n",
       "      <th>SE of Kurtosis</th>\n",
       "      <td>0.692820</td>\n",
       "    </tr>\n",
       "    <tr>\n",
       "      <th>Minimum</th>\n",
       "      <td>6.000000</td>\n",
       "    </tr>\n",
       "    <tr>\n",
       "      <th>Maximum</th>\n",
       "      <td>6.000000</td>\n",
       "    </tr>\n",
       "    <tr>\n",
       "      <th>25% percentile</th>\n",
       "      <td>9.000000</td>\n",
       "    </tr>\n",
       "    <tr>\n",
       "      <th>50% percentile</th>\n",
       "      <td>9.500000</td>\n",
       "    </tr>\n",
       "    <tr>\n",
       "      <th>75% percentile</th>\n",
       "      <td>11.000000</td>\n",
       "    </tr>\n",
       "    <tr>\n",
       "      <th>90% percentile</th>\n",
       "      <td>12.000000</td>\n",
       "    </tr>\n",
       "    <tr>\n",
       "      <th>95% percentile</th>\n",
       "      <td>12.000000</td>\n",
       "    </tr>\n",
       "  </tbody>\n",
       "</table>\n",
       "</div>"
      ],
      "text/plain": [
       "                    Value\n",
       "count           50.000000\n",
       "Mean             9.700000\n",
       "Mode             9.000000\n",
       "Median           9.500000\n",
       "Std. Deviation   1.775686\n",
       "Variance         3.153061\n",
       "Skewness         0.134412\n",
       "SE of Skewness   0.346410\n",
       "Kurtosis         0.177262\n",
       "SE of Kurtosis   0.692820\n",
       "Minimum          6.000000\n",
       "Maximum          6.000000\n",
       "25% percentile   9.000000\n",
       "50% percentile   9.500000\n",
       "75% percentile  11.000000\n",
       "90% percentile  12.000000\n",
       "95% percentile  12.000000"
      ]
     },
     "execution_count": 97,
     "metadata": {},
     "output_type": "execute_result"
    }
   ],
   "source": [
    "fstats.loc[\"Mean\"]=DF[['Females']].mean().iloc[0]\n",
    "fstats.loc[\"Mode\"]=DF[['Females']].mode().iloc[0]\n",
    "fstats.loc[\"Median\"]=DF[['Females']].median()\n",
    "fstats.loc[\"Std. Deviation\"]=DF[['Females']].std()\n",
    "fstats.loc[\"Variance\"]=DF[['Females']].var()\n",
    "fstats.loc[\"Skewness\"]=DF[['Females']].skew()\n",
    "fstats.loc[\"SE of Skewness\"]=np.sqrt(6/N)\n",
    "fstats.loc[\"Kurtosis\"]=male_df.kurtosis()\n",
    "fstats.loc[\"SE of Kurtosis\"]=np.sqrt(24/N)\n",
    "fstats.loc[\"Minimum\"]=DF[['Females']].min()\n",
    "fstats.loc[\"Maximum\"]=DF[['Females']].min()\n",
    "fstats.loc[\"25% percentile\"]=np.percentile(DF[['Females']], 25)\n",
    "fstats.loc[\"50% percentile\"]=np.percentile(DF[['Females']], 50)\n",
    "fstats.loc[\"75% percentile\"]=np.percentile(DF[['Females']], 75)\n",
    "fstats.loc[\"90% percentile\"]=np.percentile(DF[['Females']], 90)\n",
    "fstats.loc[\"95% percentile\"]=np.percentile(DF[['Females']], 95)\n",
    "\n",
    "fstats=fstats.rename(columns={\"Females\": \"Value\", \"mean\":\"Mean\"})\n",
    "fstats"
   ]
  },
  {
   "cell_type": "markdown",
   "id": "cdcc8b8b",
   "metadata": {},
   "source": [
    "### 4. What is the 95% confidence interval for the population mean of each gender category, and what is the 95% confidence interval for the difference between the means of the two populations?"
   ]
  },
  {
   "cell_type": "markdown",
   "id": "92bc8a3a",
   "metadata": {},
   "source": [
    "#### 95% confidence interval of the male students"
   ]
  },
  {
   "cell_type": "code",
   "execution_count": 133,
   "id": "26146c4f",
   "metadata": {},
   "outputs": [
    {
     "name": "stdout",
     "output_type": "stream",
     "text": [
      "The 95% confidence interval of the population mean of male students: (array([9.21394729]), array([10.42605271])) \n"
     ]
    }
   ],
   "source": [
    "mdf=DF[['Males']]\n",
    "mmean=np.mean(mdf)\n",
    "\n",
    "CI_male= spt.t.interval(0.95, len(mdf)-1, loc=mmean, scale=np.std(mdf)/np.sqrt(len(mdf)))\n",
    "\n",
    "print(f'The 95% confidence interval of the population mean of male students: {CI_male} ')"
   ]
  },
  {
   "cell_type": "markdown",
   "id": "108876d9",
   "metadata": {},
   "source": [
    "#### 95% confidence interval of the female students"
   ]
  },
  {
   "cell_type": "code",
   "execution_count": 134,
   "id": "3cb51ebd",
   "metadata": {},
   "outputs": [
    {
     "name": "stdout",
     "output_type": "stream",
     "text": [
      "The 95% confidence interval of the population mean of female students: (array([9.20042752]), array([10.19957248])) \n"
     ]
    }
   ],
   "source": [
    "fdf=DF[['Females']]\n",
    "fmean=np.mean(fdf)\n",
    "\n",
    "CI_female= spt.t.interval(0.95, len(fdf)-1, loc=fmean, scale=np.std(fdf)/np.sqrt(len(fdf)))\n",
    "\n",
    "print(f'The 95% confidence interval of the population mean of female students: {CI_female} ')"
   ]
  },
  {
   "cell_type": "markdown",
   "id": "4b617682",
   "metadata": {},
   "source": [
    "#### 95% confidence interval mean difference"
   ]
  },
  {
   "cell_type": "code",
   "execution_count": 140,
   "id": "c659ff1c",
   "metadata": {},
   "outputs": [
    {
     "name": "stdout",
     "output_type": "stream",
     "text": [
      "The 95% confidence interval of the mean difference: (array([-0.67338628]), array([0.91338628]))\n"
     ]
    }
   ],
   "source": [
    "mean_diff = mmean - fmean\n",
    "\n",
    "semm = spt.sem(mdf)  \n",
    "semf = spt.sem(fdf) \n",
    "\n",
    "pooled_se = np.sqrt(semm**2 + semf**2)\n",
    "\n",
    "df=min(len(mdf),len(fdf))-1\n",
    "\n",
    "CI_diff = spt.t.interval(0.95, df=df, loc=mean_diff, scale=pooled_se)\n",
    "\n",
    "print(f'The 95% confidence interval of the mean difference: {CI_diff}')\n"
   ]
  },
  {
   "cell_type": "markdown",
   "id": "5848bb11",
   "metadata": {},
   "source": [
    "### 5. Do you see a need for larger sample sizes and more testing with the time spent on cell phones?"
   ]
  },
  {
   "cell_type": "markdown",
   "id": "73557de0",
   "metadata": {},
   "source": [
    "The sample size is already sufficient for providing insights. However, to make it more credible or provide a different insight, having a larger sample size should be considered."
   ]
  },
  {
   "cell_type": "markdown",
   "id": "939f06b6",
   "metadata": {},
   "source": [
    "### 6. Make a report including the testing of the assumptions for two independent samples t-test."
   ]
  },
  {
   "cell_type": "code",
   "execution_count": 147,
   "id": "03fabec1",
   "metadata": {},
   "outputs": [
    {
     "name": "stdout",
     "output_type": "stream",
     "text": [
      "Shapiro-Wilk test for male students:\n",
      "ShapiroResult(statistic=0.9746544361114502, pvalue=0.3540031909942627)\n",
      "\n",
      "Shapiro-Wilk test for female students:\n",
      "ShapiroResult(statistic=0.9638769030570984, pvalue=0.1291985660791397)\n",
      "Independent samples of t-tests\n",
      "Independent t-test sample :\n",
      "TtestResult(statistic=array([0.30394908]), pvalue=array([0.7618111]), df=array([98.]))\n",
      "\n"
     ]
    }
   ],
   "source": [
    "shapiro_male=spt.shapiro(mdf)\n",
    "shapiro_female=spt.shapiro(fdf)\n",
    "\n",
    "t_test=spt.ttest_ind(mdf,fdf)\n",
    "\n",
    "\n",
    "print(f'Shapiro-Wilk test for male students:\\n{shapiro_male}\\n')\n",
    "print(f'Shapiro-Wilk test for female students:\\n{shapiro_female}')\n",
    "\n",
    "print('Independent samples of t-tests')\n",
    "print(f'Independent t-test sample :\\n{t_test}\\n')\n"
   ]
  },
  {
   "cell_type": "markdown",
   "id": "da95d43b",
   "metadata": {},
   "source": [
    "The values of the p-value from the Shapiro-Wilk test and the t-test indicate that there is no significant difference between the mean hours of the male and female students. Therefore, we must accept the null hypothesis."
   ]
  }
 ],
 "metadata": {
  "kernelspec": {
   "display_name": "Python 3 (ipykernel)",
   "language": "python",
   "name": "python3"
  },
  "language_info": {
   "codemirror_mode": {
    "name": "ipython",
    "version": 3
   },
   "file_extension": ".py",
   "mimetype": "text/x-python",
   "name": "python",
   "nbconvert_exporter": "python",
   "pygments_lexer": "ipython3",
   "version": "3.11.5"
  }
 },
 "nbformat": 4,
 "nbformat_minor": 5
}
